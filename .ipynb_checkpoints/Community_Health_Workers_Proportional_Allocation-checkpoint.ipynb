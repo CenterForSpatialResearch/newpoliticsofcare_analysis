{
 "cells": [
  {
   "cell_type": "code",
   "execution_count": 129,
   "metadata": {},
   "outputs": [],
   "source": [
    "# Suzan Iloglu, May 21,2020\n",
    "# Import packages\n",
    "import csv\n",
    "import gurobipy as gp\n",
    "from itertools import product\n",
    "import geopandas as gpd\n",
    "import pandas as pd\n",
    "import numpy as np\n",
    "import math\n",
    "import time\n",
    "from datetime import datetime, timedelta\n",
    "import matplotlib.pyplot as plt\n",
    "pd.options.display.max_columns =200\n",
    "from IPython.display import Image"
   ]
  },
  {
   "cell_type": "markdown",
   "metadata": {},
   "source": [
    "# MAPPING THE NEW POLITICS OF CARE: COMMUNITY HEALTH WORKERS\n",
    "The project presents multiple options for how individual workers in such a Community Health Corps might be distributed within each state. It shows that what you choose to prioritize greatly impacts where care would be sent. We can define communities in greatest need in many ways: we can think about our current crisis and send people to where the COVID19 pandemic rages most fiercely; we can think of long term measures of social and economic inequality embedded in metrics like the Centers for Disease Control and Prevention’s Social Vulnerability Index; we can focus on the places with too many people dying too young and use the County Health Rankings Years-of-Potential-Life-Lost measure; we can think of joblessness and how the pandemic has thrown many into unemployment and target our resources in this way. \n",
    "\n",
    "The followings are our options to choose to define vulnerability:\n",
    "\n",
    "\n",
    "- SOCIAL VULNERABILITY INDEX\n",
    "- MEDICAID \n",
    "- UNEMPLOYMENT\n",
    "- YEARS OF POTENTIAL LIFE LOST\n",
    "- TOTAL COVID CASES\n",
    "- COVID CASES BY POPULATION\n",
    "- COVID DEATHS BY POPULATION"
   ]
  },
  {
   "cell_type": "markdown",
   "metadata": {},
   "source": [
    "We will start with Social Vulnerability Index (SVI) from CDC website."
   ]
  },
  {
   "cell_type": "markdown",
   "metadata": {},
   "source": [
    "### I. Importing SVI data which includes the variables for calculating county SVI for each state\n",
    "The CDC uses both a USA-wide and a state by state SVI scores. For our project given that funding is likely going to be managed at a state level, using a state by state SVI scores makes the most sense and will be most sensitive to regional socioeconomic differences. Even though the CDC SVI scores are calculated using percentile rankings, the data sets include raw data estimates for each variables. The following table shows the variablaes used in the method of calculating SVI scores. \n",
    "\n",
    "\n"
   ]
  },
  {
   "cell_type": "markdown",
   "metadata": {},
   "source": [
    "      American Community Survey (ACS), 2014-2018 (5-year) data for the following estimates:\n",
    "<img src=\"Data/img/SVI_comp.png\" width=\"500\">\n",
    "\n",
    "\n",
    "Note: Full documentation for 2018 data is available <a href=\"https://svi.cdc.gov/data-and-tools-download.html\">here</a> \n",
    "This part of the code shows preliminary mapping of <a href = \"https://svi.cdc.gov/\">the CDC's Social Vulnerability Index</a>."
   ]
  },
  {
   "cell_type": "markdown",
   "metadata": {},
   "source": [
    "Later in the notebook, we will provide the formula to create the SVI value we use in our project. First, we import the data for the US mainland and Puerto Rico."
   ]
  },
  {
   "cell_type": "code",
   "execution_count": 130,
   "metadata": {},
   "outputs": [],
   "source": [
    "## import svi data downloaded from CDC website as cited above\n",
    "\n",
    "## 48 state SVI scores by county\n",
    "svi_counties_mainland = gpd.read_file(\"Data/SVI2018_US_COUNTY/SVI2018_US_county.shp\")\n",
    "\n",
    "## Puerto Rico SVI scores by county\n",
    "svi_counties_puerto_rico = gpd.read_file(\"Data/PuertoRico_COUNTY/SVI2018_PuertoRico_county.shp\")\n",
    "\n",
    "## Merge 48 states and Puerto Rico SVI \n",
    "svi_counties = pd.concat([svi_counties_mainland,svi_counties_puerto_rico ], sort = False)\n"
   ]
  },
  {
   "cell_type": "code",
   "execution_count": 131,
   "metadata": {},
   "outputs": [],
   "source": [
    "## Replacing -999 values with 0 for calculations\n",
    "svi_county = svi_counties.fillna(0)\n",
    "svi_county  = svi_county.replace(-999, 0)\n",
    "svi_county['FIPS'] = svi_county['FIPS'].astype(int)"
   ]
  },
  {
   "cell_type": "code",
   "execution_count": 132,
   "metadata": {},
   "outputs": [],
   "source": [
    "## Create the list for State\n",
    "State = svi_county.STATE.unique().tolist()"
   ]
  },
  {
   "cell_type": "code",
   "execution_count": 133,
   "metadata": {},
   "outputs": [],
   "source": [
    "# Create a seperate dictionary for the variables to calculate SVI\n",
    "\n",
    "# Persons below poverty estimate, 2014-2018 ACS\n",
    "E_POV = dict(zip(svi_county.FIPS, svi_county.E_POV))\n",
    "\n",
    "# Civilian (age 16+) unemployed estimate, 2014-2018 ACS\n",
    "E_UNEMP = dict(zip(svi_county.FIPS, svi_county.E_UNEMP))\n",
    "\n",
    "# Per capita income estimate, 2014-2018 ACS\n",
    "E_PCI = dict(zip(svi_county.FIPS, svi_county.E_PCI))\n",
    "\n",
    "# Persons (age 25+) with no high school diploma estimate, 2014-2018 ACS\n",
    "E_NOHSDP = dict(zip(svi_county.FIPS, svi_county.E_NOHSDP))\n",
    "\n",
    "# Persons aged 65 and older estimate\n",
    "E_AGE65 = dict(zip(svi_county.FIPS, svi_county.E_AGE65))\n",
    "\n",
    "# Persons aged 17 and younger estimate\n",
    "E_AGE17 = dict(zip(svi_county.FIPS, svi_county.E_AGE17))\n",
    "\n",
    "# Population with a disability estimate\n",
    "E_DISABL = dict(zip(svi_county.FIPS, svi_county.E_DISABL))\n",
    "\n",
    "# Single parent households with children under 18 estimate\n",
    "E_SNGPNT = dict(zip(svi_county.FIPS, svi_county.E_SNGPNT))\n",
    "\n",
    "# Minority (all persons except white, nonHispanic) estimate, 2014-2018 ACS\n",
    "E_MINRTY = dict(zip(svi_county.FIPS, svi_county.E_MINRTY))\n",
    "\n",
    "# Persons (age 5+) who speak English \"less than well\" estimate, 2014-2018 ACS\n",
    "E_LIMENG = dict(zip(svi_county.FIPS, svi_county.E_LIMENG))\n",
    "\n",
    "# Housing in structures with 10 or more units estimate, 2014-2018 ACS\n",
    "E_MUNIT = dict(zip(svi_county.FIPS, svi_county.E_MUNIT))\n",
    "\n",
    "# Mobile homes estimate MOE, 2014-2018 ACS\n",
    "E_MOBILE = dict(zip(svi_county.FIPS, svi_county.E_MOBILE))\n",
    "\n",
    "# At household level (occupied housing units), more people than rooms estimate, 2014-2018 ACS\n",
    "E_CROWD = dict(zip(svi_county.FIPS, svi_county.E_CROWD))\n",
    "\n",
    "# Households with no vehicle available estimate, 2014-2018 ACS\n",
    "E_NOVEH = dict(zip(svi_county.FIPS, svi_county.E_NOVEH))\n",
    "\n",
    "# Persons in institutionalized group quarters estimate, 2014-2018 ACS\n",
    "E_GROUPQ = dict(zip(svi_county.FIPS, svi_county.E_GROUPQ))\n",
    "\n",
    "# Percentage of persons below poverty estimate\n",
    "E_POV = dict(zip(svi_county.FIPS, svi_county.E_POV))"
   ]
  },
  {
   "cell_type": "markdown",
   "metadata": {},
   "source": [
    "# Medicaid \n",
    "Medicaid is a means-tested health insurance program for low-income children, pregnant women, adults, seniors, and people with disabilities. Medicaid is jointly funded by federal and state governments and managed by states within federal standards and a wide range of state options. <a href=\"https://data.medicaid.gov/Enrollment/State-Medicaid-and-CHIP-Applications-Eligibility-D/n5ce-jxme\"> Data Source for Medicaid Enrollment </a> "
   ]
  },
  {
   "cell_type": "code",
   "execution_count": 134,
   "metadata": {},
   "outputs": [],
   "source": [
    "# Read the medicaid demand data\n",
    "df_m = pd.read_csv(\"Data/Medicaid_Demand.csv\")\n"
   ]
  },
  {
   "cell_type": "markdown",
   "metadata": {},
   "source": [
    "# Unemployment \n",
    "The unemployment rate is calculated by the U.S. Bureau of Labor Statistics as the percentage of the civilian labor force who are without jobs and have actively sought work within the past four weeks. <a href=\"https://www.bls.gov/lau/laufaq.htm#Q01\"> Data Source for Unemployment  </a> "
   ]
  },
  {
   "cell_type": "code",
   "execution_count": 135,
   "metadata": {},
   "outputs": [],
   "source": [
    "# Read the Unemployment data\n",
    "df_unemp = pd.read_csv(\"Data/Unemployment.csv\")\n",
    "\n",
    "# Fill NA with 0\n",
    "df_unemp = df_unemp.fillna(0)\n"
   ]
  },
  {
   "cell_type": "markdown",
   "metadata": {},
   "source": [
    "# Years of Potential Life Lost (YPLL)\n",
    "\n",
    "Years of Potential Life Lost (YPLL) measures the rate of premature deaths by region. YPLL is calculated as the sum of the estimated number of years that individuals would have lived if they had not died before the age of 75 per 100,000 people. <a href=\"https://www.countyhealthrankings.org/sites/default/files/media/document/2020%20County%20Health%20Rankings%20Data%20-%20v2.xlsx\"> Data Source for YPLL.  </a> More information about YPLL can be dounf in this <a href=\"https://www.countyhealthrankings.org/explore-health-rankings/measures-data-sources/county-health-rankings-model/health-outcomes/length-of-life/premature-death-ypll\"> link. </a> \n"
   ]
  },
  {
   "cell_type": "code",
   "execution_count": 136,
   "metadata": {},
   "outputs": [],
   "source": [
    "# Read the YPLL data\n",
    "df_y = pd.read_csv(\"Data/YPLL.csv\")\n",
    "\n",
    "# Fill NA with the mean of the data\n",
    "df_y = df_y.fillna(df_y.mean())\n"
   ]
  },
  {
   "cell_type": "markdown",
   "metadata": {},
   "source": [
    "# Population"
   ]
  },
  {
   "cell_type": "code",
   "execution_count": 137,
   "metadata": {},
   "outputs": [],
   "source": [
    "# Read the Population data\n",
    "df_pop = pd.read_csv(\"Data/County_pop_2019.csv\")\n",
    "\n",
    "# Fill NA with 0\n",
    "df_pop = df_pop.fillna(0)\n"
   ]
  },
  {
   "cell_type": "code",
   "execution_count": 138,
   "metadata": {},
   "outputs": [],
   "source": [
    "# Create a dictionary for the county and population\n",
    "population_county = df_pop.set_index('FIPS')['pop'].to_dict()\n",
    "\n",
    "# Create a dictionary for the county and YPLL\n",
    "YPLL = dict(zip(df_y.FIPS, df_y.YPLL))\n",
    "\n",
    "# Create a dictionary for the county and Unemployment\n",
    "Unemployment = dict(zip(df_unemp.FIPS, df_unemp.Unemployed))\n",
    "\n",
    "\n",
    "# Create a dictionary for the county and Community Health Workers (CHW) demand\n",
    "# Note that we assume a CHW can serve 55 Medicaid patient so the demand for CHW will be\n",
    "# Medicaid patient number divided by 55\n",
    "Medicaid_demand = dict(zip(df_m.FIPS, df_m.Med_Demand))\n"
   ]
  },
  {
   "cell_type": "markdown",
   "metadata": {},
   "source": [
    "# COVID-19 Cases & COVID-19 Cases per Capita\n",
    "\n",
    "What are COVID-19 Cases and COVID-19 Cases per Capita?\n",
    "\n",
    "COVID-19 cases is an absolute metric of the total number of COVID-19 cases in a county over the last fourteen days.  COVID-19 cases per 100,000 is a relative metric calculated by dividing the number of COVID-19 cases by the estimated county population and multiplying by 100,000.  Cases include both confirmed cases, based on viral testing, and probable cases, based on specific criteria for symptoms and epidemiological exposure. We use NY Times Covid data. \n"
   ]
  },
  {
   "cell_type": "code",
   "execution_count": 139,
   "metadata": {},
   "outputs": [],
   "source": [
    "#### Data with the most recent date in NY Times dataset:\n",
    "\n",
    "today = time.strftime('%Y-%m-%d')\n",
    "covid_data_update_date = today#'2020-07-21'#today #or enter a specific date such as '2020-07-06'\n"
   ]
  },
  {
   "cell_type": "code",
   "execution_count": 140,
   "metadata": {},
   "outputs": [],
   "source": [
    "## 14 day period defined\n",
    "data_date_dt = pd.to_datetime(covid_data_update_date,infer_datetime_format = True)\n",
    "\n",
    "N = 14\n",
    "\n",
    "date_N_days_ago = data_date_dt - timedelta(days = N)\n",
    "\n",
    "date_N1_days_ago = data_date_dt - timedelta(days = N+1)"
   ]
  },
  {
   "cell_type": "code",
   "execution_count": 141,
   "metadata": {},
   "outputs": [],
   "source": [
    "import requests\n",
    "import io\n",
    "\n",
    "# URL for mainland US data\n",
    "url = \"http://raw.githubusercontent.com/nytimes/covid-19-data/master/us-counties.csv\"\n",
    "s = requests.get(url).content\n",
    "covid = pd.read_csv(io.StringIO(s.decode('utf-8')))"
   ]
  },
  {
   "cell_type": "code",
   "execution_count": 142,
   "metadata": {},
   "outputs": [
    {
     "data": {
      "text/html": [
       "<div>\n",
       "<style scoped>\n",
       "    .dataframe tbody tr th:only-of-type {\n",
       "        vertical-align: middle;\n",
       "    }\n",
       "\n",
       "    .dataframe tbody tr th {\n",
       "        vertical-align: top;\n",
       "    }\n",
       "\n",
       "    .dataframe thead th {\n",
       "        text-align: right;\n",
       "    }\n",
       "</style>\n",
       "<table border=\"1\" class=\"dataframe\">\n",
       "  <thead>\n",
       "    <tr style=\"text-align: right;\">\n",
       "      <th></th>\n",
       "      <th>date</th>\n",
       "      <th>county</th>\n",
       "      <th>state</th>\n",
       "      <th>fips</th>\n",
       "      <th>cases</th>\n",
       "      <th>deaths</th>\n",
       "    </tr>\n",
       "  </thead>\n",
       "  <tbody>\n",
       "    <tr>\n",
       "      <th>0</th>\n",
       "      <td>2020-01-21</td>\n",
       "      <td>Snohomish</td>\n",
       "      <td>Washington</td>\n",
       "      <td>53061.0</td>\n",
       "      <td>1</td>\n",
       "      <td>0</td>\n",
       "    </tr>\n",
       "    <tr>\n",
       "      <th>1</th>\n",
       "      <td>2020-01-22</td>\n",
       "      <td>Snohomish</td>\n",
       "      <td>Washington</td>\n",
       "      <td>53061.0</td>\n",
       "      <td>1</td>\n",
       "      <td>0</td>\n",
       "    </tr>\n",
       "    <tr>\n",
       "      <th>2</th>\n",
       "      <td>2020-01-23</td>\n",
       "      <td>Snohomish</td>\n",
       "      <td>Washington</td>\n",
       "      <td>53061.0</td>\n",
       "      <td>1</td>\n",
       "      <td>0</td>\n",
       "    </tr>\n",
       "    <tr>\n",
       "      <th>3</th>\n",
       "      <td>2020-01-24</td>\n",
       "      <td>Cook</td>\n",
       "      <td>Illinois</td>\n",
       "      <td>17031.0</td>\n",
       "      <td>1</td>\n",
       "      <td>0</td>\n",
       "    </tr>\n",
       "    <tr>\n",
       "      <th>4</th>\n",
       "      <td>2020-01-24</td>\n",
       "      <td>Snohomish</td>\n",
       "      <td>Washington</td>\n",
       "      <td>53061.0</td>\n",
       "      <td>1</td>\n",
       "      <td>0</td>\n",
       "    </tr>\n",
       "  </tbody>\n",
       "</table>\n",
       "</div>"
      ],
      "text/plain": [
       "         date     county       state     fips  cases  deaths\n",
       "0  2020-01-21  Snohomish  Washington  53061.0      1       0\n",
       "1  2020-01-22  Snohomish  Washington  53061.0      1       0\n",
       "2  2020-01-23  Snohomish  Washington  53061.0      1       0\n",
       "3  2020-01-24       Cook    Illinois  17031.0      1       0\n",
       "4  2020-01-24  Snohomish  Washington  53061.0      1       0"
      ]
     },
     "execution_count": 142,
     "metadata": {},
     "output_type": "execute_result"
    }
   ],
   "source": [
    "covid.head(5)"
   ]
  },
  {
   "cell_type": "markdown",
   "metadata": {},
   "source": [
    "Note: Since NY data is seperately available, we first read the NY data for all 5 different borough then combine with the rest of US data."
   ]
  },
  {
   "cell_type": "code",
   "execution_count": 143,
   "metadata": {},
   "outputs": [],
   "source": [
    "# URL for NY\n",
    "url = \"https://raw.githubusercontent.com/nychealth/coronavirus-data/master/boro/boroughs-case-hosp-death.csv\"\n",
    "\n",
    "ny = requests.get(url).content\n",
    "covid_ny = pd.read_csv(io.StringIO(ny.decode('utf-8')))\n",
    "\n",
    "\n"
   ]
  },
  {
   "cell_type": "code",
   "execution_count": 144,
   "metadata": {},
   "outputs": [
    {
     "name": "stderr",
     "output_type": "stream",
     "text": [
      "/Library/Frameworks/Python.framework/Versions/3.7/lib/python3.7/site-packages/pandas/core/frame.py:4025: SettingWithCopyWarning: \n",
      "A value is trying to be set on a copy of a slice from a DataFrame\n",
      "\n",
      "See the caveats in the documentation: http://pandas.pydata.org/pandas-docs/stable/indexing.html#indexing-view-versus-copy\n",
      "  return super(DataFrame, self).rename(**kwargs)\n",
      "/Library/Frameworks/Python.framework/Versions/3.7/lib/python3.7/site-packages/ipykernel_launcher.py:3: SettingWithCopyWarning: \n",
      "A value is trying to be set on a copy of a slice from a DataFrame.\n",
      "Try using .loc[row_indexer,col_indexer] = value instead\n",
      "\n",
      "See the caveats in the documentation: http://pandas.pydata.org/pandas-docs/stable/indexing.html#indexing-view-versus-copy\n",
      "  This is separate from the ipykernel package so we can avoid doing imports until\n",
      "/Library/Frameworks/Python.framework/Versions/3.7/lib/python3.7/site-packages/ipykernel_launcher.py:4: SettingWithCopyWarning: \n",
      "A value is trying to be set on a copy of a slice from a DataFrame.\n",
      "Try using .loc[row_indexer,col_indexer] = value instead\n",
      "\n",
      "See the caveats in the documentation: http://pandas.pydata.org/pandas-docs/stable/indexing.html#indexing-view-versus-copy\n",
      "  after removing the cwd from sys.path.\n",
      "/Library/Frameworks/Python.framework/Versions/3.7/lib/python3.7/site-packages/ipykernel_launcher.py:5: SettingWithCopyWarning: \n",
      "A value is trying to be set on a copy of a slice from a DataFrame.\n",
      "Try using .loc[row_indexer,col_indexer] = value instead\n",
      "\n",
      "See the caveats in the documentation: http://pandas.pydata.org/pandas-docs/stable/indexing.html#indexing-view-versus-copy\n",
      "  \"\"\"\n"
     ]
    }
   ],
   "source": [
    "Kings = covid_ny[['DATE_OF_INTEREST', 'BK_CASE_COUNT']]\n",
    "Kings.rename(columns = {'BK_CASE_COUNT': 'cases', 'DATE_OF_INTEREST': 'date'} , inplace=True)\n",
    "Kings['county'] = 'Kings'\n",
    "Kings['state'] = 'New York'\n",
    "Kings['fips'] = '36047'\n",
    "#Kings.head(5)"
   ]
  },
  {
   "cell_type": "code",
   "execution_count": 145,
   "metadata": {},
   "outputs": [
    {
     "name": "stderr",
     "output_type": "stream",
     "text": [
      "/Library/Frameworks/Python.framework/Versions/3.7/lib/python3.7/site-packages/ipykernel_launcher.py:3: SettingWithCopyWarning: \n",
      "A value is trying to be set on a copy of a slice from a DataFrame.\n",
      "Try using .loc[row_indexer,col_indexer] = value instead\n",
      "\n",
      "See the caveats in the documentation: http://pandas.pydata.org/pandas-docs/stable/indexing.html#indexing-view-versus-copy\n",
      "  This is separate from the ipykernel package so we can avoid doing imports until\n",
      "/Library/Frameworks/Python.framework/Versions/3.7/lib/python3.7/site-packages/ipykernel_launcher.py:4: SettingWithCopyWarning: \n",
      "A value is trying to be set on a copy of a slice from a DataFrame.\n",
      "Try using .loc[row_indexer,col_indexer] = value instead\n",
      "\n",
      "See the caveats in the documentation: http://pandas.pydata.org/pandas-docs/stable/indexing.html#indexing-view-versus-copy\n",
      "  after removing the cwd from sys.path.\n",
      "/Library/Frameworks/Python.framework/Versions/3.7/lib/python3.7/site-packages/ipykernel_launcher.py:5: SettingWithCopyWarning: \n",
      "A value is trying to be set on a copy of a slice from a DataFrame.\n",
      "Try using .loc[row_indexer,col_indexer] = value instead\n",
      "\n",
      "See the caveats in the documentation: http://pandas.pydata.org/pandas-docs/stable/indexing.html#indexing-view-versus-copy\n",
      "  \"\"\"\n"
     ]
    }
   ],
   "source": [
    "Bronx = covid_ny[['DATE_OF_INTEREST', 'BX_CASE_COUNT']]\n",
    "Bronx.rename(columns = {'BX_CASE_COUNT': 'cases', 'DATE_OF_INTEREST': 'date'} , inplace=True)\n",
    "Bronx['state'] = 'New York'\n",
    "Bronx['county'] = 'Bronx'\n",
    "Bronx['fips'] = '36005'\n",
    "#Bronx.head(5)"
   ]
  },
  {
   "cell_type": "code",
   "execution_count": 146,
   "metadata": {},
   "outputs": [
    {
     "name": "stderr",
     "output_type": "stream",
     "text": [
      "/Library/Frameworks/Python.framework/Versions/3.7/lib/python3.7/site-packages/ipykernel_launcher.py:3: SettingWithCopyWarning: \n",
      "A value is trying to be set on a copy of a slice from a DataFrame.\n",
      "Try using .loc[row_indexer,col_indexer] = value instead\n",
      "\n",
      "See the caveats in the documentation: http://pandas.pydata.org/pandas-docs/stable/indexing.html#indexing-view-versus-copy\n",
      "  This is separate from the ipykernel package so we can avoid doing imports until\n",
      "/Library/Frameworks/Python.framework/Versions/3.7/lib/python3.7/site-packages/ipykernel_launcher.py:4: SettingWithCopyWarning: \n",
      "A value is trying to be set on a copy of a slice from a DataFrame.\n",
      "Try using .loc[row_indexer,col_indexer] = value instead\n",
      "\n",
      "See the caveats in the documentation: http://pandas.pydata.org/pandas-docs/stable/indexing.html#indexing-view-versus-copy\n",
      "  after removing the cwd from sys.path.\n",
      "/Library/Frameworks/Python.framework/Versions/3.7/lib/python3.7/site-packages/ipykernel_launcher.py:5: SettingWithCopyWarning: \n",
      "A value is trying to be set on a copy of a slice from a DataFrame.\n",
      "Try using .loc[row_indexer,col_indexer] = value instead\n",
      "\n",
      "See the caveats in the documentation: http://pandas.pydata.org/pandas-docs/stable/indexing.html#indexing-view-versus-copy\n",
      "  \"\"\"\n"
     ]
    }
   ],
   "source": [
    "Manhattan = covid_ny[['DATE_OF_INTEREST', 'MN_CASE_COUNT']]\n",
    "Manhattan.rename(columns = {'MN_CASE_COUNT': 'cases', 'DATE_OF_INTEREST': 'date'} , inplace=True)\n",
    "Manhattan['state'] = 'New York'\n",
    "Manhattan['county'] = 'Manhattan'\n",
    "Manhattan['fips'] = '36061'\n",
    "#Manhattan.head(5)"
   ]
  },
  {
   "cell_type": "code",
   "execution_count": 147,
   "metadata": {},
   "outputs": [
    {
     "name": "stderr",
     "output_type": "stream",
     "text": [
      "/Library/Frameworks/Python.framework/Versions/3.7/lib/python3.7/site-packages/ipykernel_launcher.py:3: SettingWithCopyWarning: \n",
      "A value is trying to be set on a copy of a slice from a DataFrame.\n",
      "Try using .loc[row_indexer,col_indexer] = value instead\n",
      "\n",
      "See the caveats in the documentation: http://pandas.pydata.org/pandas-docs/stable/indexing.html#indexing-view-versus-copy\n",
      "  This is separate from the ipykernel package so we can avoid doing imports until\n",
      "/Library/Frameworks/Python.framework/Versions/3.7/lib/python3.7/site-packages/ipykernel_launcher.py:4: SettingWithCopyWarning: \n",
      "A value is trying to be set on a copy of a slice from a DataFrame.\n",
      "Try using .loc[row_indexer,col_indexer] = value instead\n",
      "\n",
      "See the caveats in the documentation: http://pandas.pydata.org/pandas-docs/stable/indexing.html#indexing-view-versus-copy\n",
      "  after removing the cwd from sys.path.\n",
      "/Library/Frameworks/Python.framework/Versions/3.7/lib/python3.7/site-packages/ipykernel_launcher.py:5: SettingWithCopyWarning: \n",
      "A value is trying to be set on a copy of a slice from a DataFrame.\n",
      "Try using .loc[row_indexer,col_indexer] = value instead\n",
      "\n",
      "See the caveats in the documentation: http://pandas.pydata.org/pandas-docs/stable/indexing.html#indexing-view-versus-copy\n",
      "  \"\"\"\n"
     ]
    }
   ],
   "source": [
    "Queens = covid_ny[['DATE_OF_INTEREST', 'QN_CASE_COUNT']]\n",
    "Queens.rename(columns = {'QN_CASE_COUNT': 'cases', 'DATE_OF_INTEREST': 'date'} , inplace=True)\n",
    "Queens['state'] = 'New York'\n",
    "Queens['county'] = 'Queens'\n",
    "Queens['fips'] = '36081'\n",
    "#Queens.head(5)"
   ]
  },
  {
   "cell_type": "code",
   "execution_count": 148,
   "metadata": {},
   "outputs": [
    {
     "name": "stderr",
     "output_type": "stream",
     "text": [
      "/Library/Frameworks/Python.framework/Versions/3.7/lib/python3.7/site-packages/ipykernel_launcher.py:3: SettingWithCopyWarning: \n",
      "A value is trying to be set on a copy of a slice from a DataFrame.\n",
      "Try using .loc[row_indexer,col_indexer] = value instead\n",
      "\n",
      "See the caveats in the documentation: http://pandas.pydata.org/pandas-docs/stable/indexing.html#indexing-view-versus-copy\n",
      "  This is separate from the ipykernel package so we can avoid doing imports until\n",
      "/Library/Frameworks/Python.framework/Versions/3.7/lib/python3.7/site-packages/ipykernel_launcher.py:4: SettingWithCopyWarning: \n",
      "A value is trying to be set on a copy of a slice from a DataFrame.\n",
      "Try using .loc[row_indexer,col_indexer] = value instead\n",
      "\n",
      "See the caveats in the documentation: http://pandas.pydata.org/pandas-docs/stable/indexing.html#indexing-view-versus-copy\n",
      "  after removing the cwd from sys.path.\n",
      "/Library/Frameworks/Python.framework/Versions/3.7/lib/python3.7/site-packages/ipykernel_launcher.py:5: SettingWithCopyWarning: \n",
      "A value is trying to be set on a copy of a slice from a DataFrame.\n",
      "Try using .loc[row_indexer,col_indexer] = value instead\n",
      "\n",
      "See the caveats in the documentation: http://pandas.pydata.org/pandas-docs/stable/indexing.html#indexing-view-versus-copy\n",
      "  \"\"\"\n"
     ]
    }
   ],
   "source": [
    "Richmond = covid_ny[['DATE_OF_INTEREST', 'SI_CASE_COUNT']]\n",
    "Richmond.rename(columns = {'SI_CASE_COUNT': 'cases', 'DATE_OF_INTEREST': 'date'} , inplace=True)\n",
    "Richmond['state'] = 'New York'\n",
    "Richmond['county'] = 'Richmond'\n",
    "Richmond['fips'] = '36085'"
   ]
  },
  {
   "cell_type": "code",
   "execution_count": 149,
   "metadata": {},
   "outputs": [],
   "source": [
    "# We merge the NY data with the rest of the US data\n",
    "covid = pd.concat([covid, Kings, Bronx, Manhattan, Queens, Richmond], sort = False)\n"
   ]
  },
  {
   "cell_type": "code",
   "execution_count": 150,
   "metadata": {},
   "outputs": [
    {
     "data": {
      "text/html": [
       "<div>\n",
       "<style scoped>\n",
       "    .dataframe tbody tr th:only-of-type {\n",
       "        vertical-align: middle;\n",
       "    }\n",
       "\n",
       "    .dataframe tbody tr th {\n",
       "        vertical-align: top;\n",
       "    }\n",
       "\n",
       "    .dataframe thead th {\n",
       "        text-align: right;\n",
       "    }\n",
       "</style>\n",
       "<table border=\"1\" class=\"dataframe\">\n",
       "  <thead>\n",
       "    <tr style=\"text-align: right;\">\n",
       "      <th></th>\n",
       "      <th>date</th>\n",
       "      <th>county</th>\n",
       "      <th>state</th>\n",
       "      <th>fips</th>\n",
       "      <th>cases</th>\n",
       "      <th>deaths</th>\n",
       "      <th>dt</th>\n",
       "    </tr>\n",
       "  </thead>\n",
       "  <tbody>\n",
       "    <tr>\n",
       "      <th>0</th>\n",
       "      <td>2020-01-21</td>\n",
       "      <td>Snohomish</td>\n",
       "      <td>Washington</td>\n",
       "      <td>53061</td>\n",
       "      <td>1</td>\n",
       "      <td>0.0</td>\n",
       "      <td>2020-01-21</td>\n",
       "    </tr>\n",
       "    <tr>\n",
       "      <th>1</th>\n",
       "      <td>2020-01-22</td>\n",
       "      <td>Snohomish</td>\n",
       "      <td>Washington</td>\n",
       "      <td>53061</td>\n",
       "      <td>1</td>\n",
       "      <td>0.0</td>\n",
       "      <td>2020-01-22</td>\n",
       "    </tr>\n",
       "    <tr>\n",
       "      <th>2</th>\n",
       "      <td>2020-01-23</td>\n",
       "      <td>Snohomish</td>\n",
       "      <td>Washington</td>\n",
       "      <td>53061</td>\n",
       "      <td>1</td>\n",
       "      <td>0.0</td>\n",
       "      <td>2020-01-23</td>\n",
       "    </tr>\n",
       "    <tr>\n",
       "      <th>3</th>\n",
       "      <td>2020-01-24</td>\n",
       "      <td>Cook</td>\n",
       "      <td>Illinois</td>\n",
       "      <td>17031</td>\n",
       "      <td>1</td>\n",
       "      <td>0.0</td>\n",
       "      <td>2020-01-24</td>\n",
       "    </tr>\n",
       "    <tr>\n",
       "      <th>4</th>\n",
       "      <td>2020-01-24</td>\n",
       "      <td>Snohomish</td>\n",
       "      <td>Washington</td>\n",
       "      <td>53061</td>\n",
       "      <td>1</td>\n",
       "      <td>0.0</td>\n",
       "      <td>2020-01-24</td>\n",
       "    </tr>\n",
       "  </tbody>\n",
       "</table>\n",
       "</div>"
      ],
      "text/plain": [
       "         date     county       state   fips  cases  deaths         dt\n",
       "0  2020-01-21  Snohomish  Washington  53061      1     0.0 2020-01-21\n",
       "1  2020-01-22  Snohomish  Washington  53061      1     0.0 2020-01-22\n",
       "2  2020-01-23  Snohomish  Washington  53061      1     0.0 2020-01-23\n",
       "3  2020-01-24       Cook    Illinois  17031      1     0.0 2020-01-24\n",
       "4  2020-01-24  Snohomish  Washington  53061      1     0.0 2020-01-24"
      ]
     },
     "execution_count": 150,
     "metadata": {},
     "output_type": "execute_result"
    }
   ],
   "source": [
    "covid['dt'] = pd.to_datetime(covid['date'], infer_datetime_format=True)\n",
    "covid.head(5)"
   ]
  },
  {
   "cell_type": "code",
   "execution_count": 151,
   "metadata": {},
   "outputs": [],
   "source": [
    "## subset last last 15 days\n",
    "covid_last15 = covid[(covid['dt']>date_N1_days_ago) & (covid['dt']<= data_date_dt)].copy()\n",
    "covid_last15['dt_time_delta'] = covid_last15['dt']-data_date_dt"
   ]
  },
  {
   "cell_type": "code",
   "execution_count": 152,
   "metadata": {},
   "outputs": [],
   "source": [
    "## calculate new daily cases\n",
    "\n",
    "## sort values by county and date\n",
    "covid_last15.sort_values(by=['fips','dt'],inplace=True)\n",
    "## remove data with 'unknown' counties\n",
    "covid_last15 = covid_last15[covid_last15['fips'].notnull()].copy()\n",
    "\n",
    "## calculate daily difference in number of cases\n",
    "covid_last15['new_cases'] = covid_last15.groupby('fips')['cases'].transform(lambda x: x.diff())\n",
    "## set negative new cases to zero, this can occuer due to the disperacy in the data\n",
    "\n",
    "covid_last15.loc[covid_last15.new_cases < 1e-6, 'new_cases'] = 0\n",
    "covid_last15.sort_index(inplace = True)"
   ]
  },
  {
   "cell_type": "code",
   "execution_count": 153,
   "metadata": {},
   "outputs": [],
   "source": [
    "## select just last 14 days now that we have daily new cases with 15th day as baseline\n",
    "covid_last14 = covid_last15[(covid_last15['dt'] > date_N_days_ago) & (covid_last15['dt'] <= data_date_dt)].copy()\n"
   ]
  },
  {
   "cell_type": "code",
   "execution_count": 154,
   "metadata": {},
   "outputs": [
    {
     "data": {
      "text/html": [
       "<div>\n",
       "<style scoped>\n",
       "    .dataframe tbody tr th:only-of-type {\n",
       "        vertical-align: middle;\n",
       "    }\n",
       "\n",
       "    .dataframe tbody tr th {\n",
       "        vertical-align: top;\n",
       "    }\n",
       "\n",
       "    .dataframe thead th {\n",
       "        text-align: right;\n",
       "    }\n",
       "</style>\n",
       "<table border=\"1\" class=\"dataframe\">\n",
       "  <thead>\n",
       "    <tr style=\"text-align: right;\">\n",
       "      <th></th>\n",
       "      <th>fips</th>\n",
       "      <th>total_cases</th>\n",
       "    </tr>\n",
       "  </thead>\n",
       "  <tbody>\n",
       "    <tr>\n",
       "      <th>0</th>\n",
       "      <td>1001</td>\n",
       "      <td>167.0</td>\n",
       "    </tr>\n",
       "    <tr>\n",
       "      <th>1</th>\n",
       "      <td>1003</td>\n",
       "      <td>619.0</td>\n",
       "    </tr>\n",
       "    <tr>\n",
       "      <th>2</th>\n",
       "      <td>1005</td>\n",
       "      <td>87.0</td>\n",
       "    </tr>\n",
       "    <tr>\n",
       "      <th>3</th>\n",
       "      <td>1007</td>\n",
       "      <td>48.0</td>\n",
       "    </tr>\n",
       "    <tr>\n",
       "      <th>4</th>\n",
       "      <td>1009</td>\n",
       "      <td>125.0</td>\n",
       "    </tr>\n",
       "  </tbody>\n",
       "</table>\n",
       "</div>"
      ],
      "text/plain": [
       "   fips  total_cases\n",
       "0  1001        167.0\n",
       "1  1003        619.0\n",
       "2  1005         87.0\n",
       "3  1007         48.0\n",
       "4  1009        125.0"
      ]
     },
     "execution_count": 154,
     "metadata": {},
     "output_type": "execute_result"
    }
   ],
   "source": [
    "## group by FIPS to get case load and follow up demand values for each county\n",
    "covid_last14_stats = covid_last14.groupby(['fips'])['new_cases'].sum().reset_index(name ='total_cases')\n",
    "\n",
    "covid_last14_stats.head(5)"
   ]
  },
  {
   "cell_type": "code",
   "execution_count": 155,
   "metadata": {},
   "outputs": [
    {
     "data": {
      "text/html": [
       "<div>\n",
       "<style scoped>\n",
       "    .dataframe tbody tr th:only-of-type {\n",
       "        vertical-align: middle;\n",
       "    }\n",
       "\n",
       "    .dataframe tbody tr th {\n",
       "        vertical-align: top;\n",
       "    }\n",
       "\n",
       "    .dataframe thead th {\n",
       "        text-align: right;\n",
       "    }\n",
       "</style>\n",
       "<table border=\"1\" class=\"dataframe\">\n",
       "  <thead>\n",
       "    <tr style=\"text-align: right;\">\n",
       "      <th></th>\n",
       "      <th>fips</th>\n",
       "      <th>total_deaths</th>\n",
       "    </tr>\n",
       "  </thead>\n",
       "  <tbody>\n",
       "    <tr>\n",
       "      <th>0</th>\n",
       "      <td>1001</td>\n",
       "      <td>2363.0</td>\n",
       "    </tr>\n",
       "    <tr>\n",
       "      <th>1</th>\n",
       "      <td>1003</td>\n",
       "      <td>3398.0</td>\n",
       "    </tr>\n",
       "    <tr>\n",
       "      <th>2</th>\n",
       "      <td>1005</td>\n",
       "      <td>554.0</td>\n",
       "    </tr>\n",
       "    <tr>\n",
       "      <th>3</th>\n",
       "      <td>1007</td>\n",
       "      <td>552.0</td>\n",
       "    </tr>\n",
       "    <tr>\n",
       "      <th>4</th>\n",
       "      <td>1009</td>\n",
       "      <td>645.0</td>\n",
       "    </tr>\n",
       "  </tbody>\n",
       "</table>\n",
       "</div>"
      ],
      "text/plain": [
       "   fips  total_deaths\n",
       "0  1001        2363.0\n",
       "1  1003        3398.0\n",
       "2  1005         554.0\n",
       "3  1007         552.0\n",
       "4  1009         645.0"
      ]
     },
     "execution_count": 155,
     "metadata": {},
     "output_type": "execute_result"
    }
   ],
   "source": [
    "## group by FIPS to get case load and follow up demand values for each county\n",
    "covid_death = covid.groupby(['fips'])['deaths'].sum().reset_index(name ='total_deaths')\n",
    "covid_death.head(5)"
   ]
  },
  {
   "cell_type": "code",
   "execution_count": 156,
   "metadata": {},
   "outputs": [],
   "source": [
    "## group by FIPS to get case load each month and follow up demand values for each county\n",
    "covid['month'] = pd.to_datetime(covid['date'])\n",
    "covid['year'] = pd.to_datetime(covid['date'])\n"
   ]
  },
  {
   "cell_type": "code",
   "execution_count": 157,
   "metadata": {},
   "outputs": [
    {
     "data": {
      "text/html": [
       "<div>\n",
       "<style scoped>\n",
       "    .dataframe tbody tr th:only-of-type {\n",
       "        vertical-align: middle;\n",
       "    }\n",
       "\n",
       "    .dataframe tbody tr th {\n",
       "        vertical-align: top;\n",
       "    }\n",
       "\n",
       "    .dataframe thead th {\n",
       "        text-align: right;\n",
       "    }\n",
       "</style>\n",
       "<table border=\"1\" class=\"dataframe\">\n",
       "  <thead>\n",
       "    <tr style=\"text-align: right;\">\n",
       "      <th></th>\n",
       "      <th>fips</th>\n",
       "      <th>month</th>\n",
       "      <th>year</th>\n",
       "      <th>deaths</th>\n",
       "      <th>cumulative_death</th>\n",
       "    </tr>\n",
       "  </thead>\n",
       "  <tbody>\n",
       "    <tr>\n",
       "      <th>0</th>\n",
       "      <td>1001</td>\n",
       "      <td>3</td>\n",
       "      <td>2020</td>\n",
       "      <td>0.0</td>\n",
       "      <td>0.0</td>\n",
       "    </tr>\n",
       "    <tr>\n",
       "      <th>1</th>\n",
       "      <td>1001</td>\n",
       "      <td>4</td>\n",
       "      <td>2020</td>\n",
       "      <td>45.0</td>\n",
       "      <td>45.0</td>\n",
       "    </tr>\n",
       "    <tr>\n",
       "      <th>2</th>\n",
       "      <td>1001</td>\n",
       "      <td>5</td>\n",
       "      <td>2020</td>\n",
       "      <td>107.0</td>\n",
       "      <td>152.0</td>\n",
       "    </tr>\n",
       "    <tr>\n",
       "      <th>3</th>\n",
       "      <td>1001</td>\n",
       "      <td>6</td>\n",
       "      <td>2020</td>\n",
       "      <td>228.0</td>\n",
       "      <td>380.0</td>\n",
       "    </tr>\n",
       "    <tr>\n",
       "      <th>4</th>\n",
       "      <td>1001</td>\n",
       "      <td>7</td>\n",
       "      <td>2020</td>\n",
       "      <td>551.0</td>\n",
       "      <td>931.0</td>\n",
       "    </tr>\n",
       "    <tr>\n",
       "      <th>5</th>\n",
       "      <td>1001</td>\n",
       "      <td>8</td>\n",
       "      <td>2020</td>\n",
       "      <td>699.0</td>\n",
       "      <td>1630.0</td>\n",
       "    </tr>\n",
       "    <tr>\n",
       "      <th>6</th>\n",
       "      <td>1001</td>\n",
       "      <td>9</td>\n",
       "      <td>2020</td>\n",
       "      <td>733.0</td>\n",
       "      <td>2363.0</td>\n",
       "    </tr>\n",
       "    <tr>\n",
       "      <th>7</th>\n",
       "      <td>1003</td>\n",
       "      <td>3</td>\n",
       "      <td>2020</td>\n",
       "      <td>0.0</td>\n",
       "      <td>0.0</td>\n",
       "    </tr>\n",
       "    <tr>\n",
       "      <th>8</th>\n",
       "      <td>1003</td>\n",
       "      <td>4</td>\n",
       "      <td>2020</td>\n",
       "      <td>58.0</td>\n",
       "      <td>58.0</td>\n",
       "    </tr>\n",
       "    <tr>\n",
       "      <th>9</th>\n",
       "      <td>1003</td>\n",
       "      <td>5</td>\n",
       "      <td>2020</td>\n",
       "      <td>220.0</td>\n",
       "      <td>278.0</td>\n",
       "    </tr>\n",
       "  </tbody>\n",
       "</table>\n",
       "</div>"
      ],
      "text/plain": [
       "   fips  month  year  deaths  cumulative_death\n",
       "0  1001      3  2020     0.0               0.0\n",
       "1  1001      4  2020    45.0              45.0\n",
       "2  1001      5  2020   107.0             152.0\n",
       "3  1001      6  2020   228.0             380.0\n",
       "4  1001      7  2020   551.0             931.0\n",
       "5  1001      8  2020   699.0            1630.0\n",
       "6  1001      9  2020   733.0            2363.0\n",
       "7  1003      3  2020     0.0               0.0\n",
       "8  1003      4  2020    58.0              58.0\n",
       "9  1003      5  2020   220.0             278.0"
      ]
     },
     "execution_count": 157,
     "metadata": {},
     "output_type": "execute_result"
    }
   ],
   "source": [
    "covid_last14_stats_montly = covid.groupby(['fips', covid.month.dt.month, covid.year.dt.year])['deaths'].sum().reset_index() \n",
    "\n",
    "covid_last14_stats_montly['cumulative_death'] = covid_last14_stats_montly.groupby(['fips'])['deaths'].cumsum(axis = 0) \n",
    "#covid_last14_stats_montly = covid_last14_stats_montly.groupby(['fips', covid_last14_stats_montly.month,  covid_last14_stats_montly.year])['deaths'].cumsum()\n",
    "\n",
    "covid_last14_stats_montly.head(10)"
   ]
  },
  {
   "cell_type": "code",
   "execution_count": 158,
   "metadata": {},
   "outputs": [],
   "source": [
    "# adding population information from CDC svi dataset\n",
    "covid_last14_stats = covid_last14_stats.reset_index()\n",
    "covid_last14_stats['fips'] = covid_last14_stats['fips'].astype(int)\n",
    "svi_county['FIPS'] = svi_county['FIPS'].astype(int)\n",
    "covid_last14_stats = pd.merge(left = covid_last14_stats, right = svi_county[['E_TOTPOP','FIPS', 'STATE']], how = 'right', right_on = 'FIPS', left_on = 'fips' )\n",
    "covid_last14_stats.fillna(0 , inplace=True)"
   ]
  },
  {
   "cell_type": "code",
   "execution_count": 159,
   "metadata": {},
   "outputs": [],
   "source": [
    "# Create a dictionary for the cumulative COVID deaths in each county\n",
    "County_covid_death = dict(zip(covid_death.fips, covid_death.total_deaths))\n"
   ]
  },
  {
   "cell_type": "code",
   "execution_count": null,
   "metadata": {},
   "outputs": [],
   "source": []
  },
  {
   "cell_type": "code",
   "execution_count": 160,
   "metadata": {},
   "outputs": [
    {
     "name": "stdout",
     "output_type": "stream",
     "text": [
      "2020-10-01 18:06:25.601794\n",
      "10\n"
     ]
    }
   ],
   "source": [
    "now = pd.to_datetime(\"now\")\n",
    "\n",
    "print (now)\n",
    "m_now = now.month\n",
    "print (m_now)\n",
    "\n",
    "y_now = now.year"
   ]
  },
  {
   "cell_type": "code",
   "execution_count": 161,
   "metadata": {},
   "outputs": [
    {
     "data": {
      "text/html": [
       "<div>\n",
       "<style scoped>\n",
       "    .dataframe tbody tr th:only-of-type {\n",
       "        vertical-align: middle;\n",
       "    }\n",
       "\n",
       "    .dataframe tbody tr th {\n",
       "        vertical-align: top;\n",
       "    }\n",
       "\n",
       "    .dataframe thead th {\n",
       "        text-align: right;\n",
       "    }\n",
       "</style>\n",
       "<table border=\"1\" class=\"dataframe\">\n",
       "  <thead>\n",
       "    <tr style=\"text-align: right;\">\n",
       "      <th></th>\n",
       "      <th>fips</th>\n",
       "      <th>month</th>\n",
       "      <th>year</th>\n",
       "      <th>deaths</th>\n",
       "      <th>cumulative_death</th>\n",
       "    </tr>\n",
       "  </thead>\n",
       "  <tbody>\n",
       "    <tr>\n",
       "      <th>6</th>\n",
       "      <td>1001</td>\n",
       "      <td>9</td>\n",
       "      <td>2020</td>\n",
       "      <td>733.0</td>\n",
       "      <td>2363.0</td>\n",
       "    </tr>\n",
       "    <tr>\n",
       "      <th>13</th>\n",
       "      <td>1003</td>\n",
       "      <td>9</td>\n",
       "      <td>2020</td>\n",
       "      <td>1425.0</td>\n",
       "      <td>3398.0</td>\n",
       "    </tr>\n",
       "    <tr>\n",
       "      <th>19</th>\n",
       "      <td>1005</td>\n",
       "      <td>9</td>\n",
       "      <td>2020</td>\n",
       "      <td>210.0</td>\n",
       "      <td>554.0</td>\n",
       "    </tr>\n",
       "    <tr>\n",
       "      <th>26</th>\n",
       "      <td>1007</td>\n",
       "      <td>9</td>\n",
       "      <td>2020</td>\n",
       "      <td>281.0</td>\n",
       "      <td>552.0</td>\n",
       "    </tr>\n",
       "    <tr>\n",
       "      <th>33</th>\n",
       "      <td>1009</td>\n",
       "      <td>9</td>\n",
       "      <td>2020</td>\n",
       "      <td>397.0</td>\n",
       "      <td>645.0</td>\n",
       "    </tr>\n",
       "  </tbody>\n",
       "</table>\n",
       "</div>"
      ],
      "text/plain": [
       "    fips  month  year  deaths  cumulative_death\n",
       "6   1001      9  2020   733.0            2363.0\n",
       "13  1003      9  2020  1425.0            3398.0\n",
       "19  1005      9  2020   210.0             554.0\n",
       "26  1007      9  2020   281.0             552.0\n",
       "33  1009      9  2020   397.0             645.0"
      ]
     },
     "execution_count": 161,
     "metadata": {},
     "output_type": "execute_result"
    }
   ],
   "source": [
    "one_month_lag_cumulative_death =  covid_last14_stats_montly[(covid_last14_stats_montly['month'] == m_now-1) & (covid_last14_stats_montly['year'] == y_now)]\n",
    "\n",
    "# Create a dictionary for the last month COVID deaths in each county\n",
    "one_month_lag_death = dict(zip(one_month_lag_cumulative_death.fips, one_month_lag_cumulative_death.cumulative_death))\n",
    "\n",
    "one_month_lag_cumulative_death.head(5)\n"
   ]
  },
  {
   "cell_type": "code",
   "execution_count": 162,
   "metadata": {},
   "outputs": [
    {
     "data": {
      "text/html": [
       "<div>\n",
       "<style scoped>\n",
       "    .dataframe tbody tr th:only-of-type {\n",
       "        vertical-align: middle;\n",
       "    }\n",
       "\n",
       "    .dataframe tbody tr th {\n",
       "        vertical-align: top;\n",
       "    }\n",
       "\n",
       "    .dataframe thead th {\n",
       "        text-align: right;\n",
       "    }\n",
       "</style>\n",
       "<table border=\"1\" class=\"dataframe\">\n",
       "  <thead>\n",
       "    <tr style=\"text-align: right;\">\n",
       "      <th></th>\n",
       "      <th>fips</th>\n",
       "      <th>month</th>\n",
       "      <th>year</th>\n",
       "      <th>deaths</th>\n",
       "      <th>cumulative_death</th>\n",
       "    </tr>\n",
       "  </thead>\n",
       "  <tbody>\n",
       "    <tr>\n",
       "      <th>5</th>\n",
       "      <td>1001</td>\n",
       "      <td>8</td>\n",
       "      <td>2020</td>\n",
       "      <td>699.0</td>\n",
       "      <td>1630.0</td>\n",
       "    </tr>\n",
       "    <tr>\n",
       "      <th>12</th>\n",
       "      <td>1003</td>\n",
       "      <td>8</td>\n",
       "      <td>2020</td>\n",
       "      <td>981.0</td>\n",
       "      <td>1973.0</td>\n",
       "    </tr>\n",
       "    <tr>\n",
       "      <th>18</th>\n",
       "      <td>1005</td>\n",
       "      <td>8</td>\n",
       "      <td>2020</td>\n",
       "      <td>189.0</td>\n",
       "      <td>344.0</td>\n",
       "    </tr>\n",
       "    <tr>\n",
       "      <th>25</th>\n",
       "      <td>1007</td>\n",
       "      <td>8</td>\n",
       "      <td>2020</td>\n",
       "      <td>168.0</td>\n",
       "      <td>271.0</td>\n",
       "    </tr>\n",
       "    <tr>\n",
       "      <th>32</th>\n",
       "      <td>1009</td>\n",
       "      <td>8</td>\n",
       "      <td>2020</td>\n",
       "      <td>166.0</td>\n",
       "      <td>248.0</td>\n",
       "    </tr>\n",
       "  </tbody>\n",
       "</table>\n",
       "</div>"
      ],
      "text/plain": [
       "    fips  month  year  deaths  cumulative_death\n",
       "5   1001      8  2020   699.0            1630.0\n",
       "12  1003      8  2020   981.0            1973.0\n",
       "18  1005      8  2020   189.0             344.0\n",
       "25  1007      8  2020   168.0             271.0\n",
       "32  1009      8  2020   166.0             248.0"
      ]
     },
     "execution_count": 162,
     "metadata": {},
     "output_type": "execute_result"
    }
   ],
   "source": [
    "two_month_lag_cumulative_death =  covid_last14_stats_montly[(covid_last14_stats_montly['month'] == m_now-2) & (covid_last14_stats_montly['year'] == y_now)]\n",
    "\n",
    "# Create a dictionary for the last month COVID deaths in each county\n",
    "two_month_lag_death = dict(zip(two_month_lag_cumulative_death.fips, two_month_lag_cumulative_death.cumulative_death))\n",
    "\n",
    "\n",
    "two_month_lag_cumulative_death.head(5)"
   ]
  },
  {
   "cell_type": "code",
   "execution_count": 163,
   "metadata": {},
   "outputs": [
    {
     "name": "stdout",
     "output_type": "stream",
     "text": [
      "{1001.0: 931.0, 1003.0: 992.0, 1005.0: 155.0, 1007.0: 103.0, 1009.0: 82.0, 1011.0: 661.0, 1013.0: 1969.0, 1015.0: 424.0, 1017.0: 2827.0, 1019.0: 402.0, 1021.0: 234.0, 1023.0: 793.0, 1025.0: 382.0, 1027.0: 194.0, 1029.0: 104.0, 1031.0: 173.0, 1033.0: 474.0, 1035.0: 312.0, 1037.0: 119.0, 1039.0: 558.0, 1041.0: 230.0, 1043.0: 268.0, 1045.0: 182.0, 1047.0: 713.0, 1049.0: 468.0, 1051.0: 1270.0, 1053.0: 559.0, 1055.0: 1330.0, 1057.0: 107.0, 1059.0: 920.0, 1061.0: 12.0, 1063.0: 547.0, 1065.0: 1253.0, 1067.0: 248.0, 1069.0: 639.0, 1071.0: 328.0, 1073.0: 12128.0, 1075.0: 42.0, 1077.0: 483.0, 1079.0: 0.0, 1081.0: 3620.0, 1083.0: 169.0, 1085.0: 1445.0, 1087.0: 596.0, 1089.0: 871.0, 1091.0: 815.0, 1093.0: 1266.0, 1095.0: 1142.0, 1097.0: 12475.0, 1099.0: 242.0, 1101.0: 6681.0, 1103.0: 337.0, 1105.0: 69.0, 1107.0: 501.0, 1109.0: 252.0, 1111.0: 843.0, 1113.0: 10.0, 1115.0: 222.0, 1117.0: 2194.0, 1119.0: 884.0, 1121.0: 542.0, 1123.0: 6094.0, 1125.0: 2728.0, 1127.0: 1534.0, 1129.0: 603.0, 1131.0: 666.0, 1133.0: 240.0, 2013.0: 0.0, 2016.0: 0.0, 2020.0: 662.0, 2050.0: 0.0, 2060.0: 0.0, 2068.0: 0.0, 2070.0: 0.0, 2090.0: 252.0, 2100.0: 0.0, 2110.0: 71.0, 2122.0: 87.0, 2130.0: 0.0, 2150.0: 0.0, 2158.0: 0.0, 2164.0: 0.0, 2170.0: 134.0, 2180.0: 0.0, 2185.0: 0.0, 2188.0: 0.0, 2195.0: 0.0, 2198.0: 0.0, 2220.0: 0.0, 2240.0: 0.0, 2261.0: 0.0, 2275.0: 0.0, 2290.0: 5.0, 4001.0: 5814.0, 4003.0: 1059.0, 4005.0: 8541.0, 4007.0: 603.0, 4009.0: 201.0, 4011.0: 70.0, 4012.0: 408.0, 4013.0: 70850.0, 4015.0: 6395.0, 4017.0: 9077.0, 4019.0: 23858.0, 4021.0: 5476.0, 4023.0: 1444.0, 4025.0: 1338.0, 4027.0: 7027.0, 5001.0: 14.0, 5003.0: 108.0, 5005.0: 0.0, 5007.0: 1078.0, 5009.0: 39.0, 5011.0: 153.0, 5013.0: 0.0, 5015.0: 249.0, 5017.0: 144.0, 5019.0: 0.0, 5021.0: 132.0, 5023.0: 513.0, 5025.0: 8.0, 5027.0: 279.0, 5029.0: 221.0, 5031.0: 342.0, 5033.0: 74.0, 5035.0: 1059.0, 5037.0: 45.0, 5039.0: 0.0, 5041.0: 36.0, 5043.0: 144.0, 5045.0: 331.0, 5047.0: 33.0, 5049.0: 0.0, 5051.0: 176.0, 5053.0: 0.0, 5055.0: 8.0, 5057.0: 125.0, 5059.0: 73.0, 5061.0: 44.0, 5063.0: 0.0, 5065.0: 60.0, 5067.0: 10.0, 5069.0: 2556.0, 5071.0: 0.0, 5073.0: 122.0, 5075.0: 699.0, 5077.0: 220.0, 5079.0: 880.0, 5081.0: 16.0, 5083.0: 1.0, 5085.0: 53.0, 5087.0: 21.0, 5089.0: 0.0, 5091.0: 158.0, 5093.0: 246.0, 5095.0: 0.0, 5097.0: 0.0, 5099.0: 189.0, 5101.0: 6.0, 5103.0: 15.0, 5105.0: 0.0, 5107.0: 262.0, 5109.0: 5.0, 5111.0: 238.0, 5113.0: 2.0, 5115.0: 222.0, 5117.0: 0.0, 5119.0: 4541.0, 5121.0: 63.0, 5123.0: 167.0, 5125.0: 199.0, 5127.0: 0.0, 5129.0: 0.0, 5131.0: 339.0, 5133.0: 443.0, 5135.0: 301.0, 5137.0: 25.0, 5139.0: 901.0, 5141.0: 238.0, 5143.0: 1768.0, 5145.0: 131.0, 5147.0: 0.0, 5149.0: 373.0, 6001.0: 11947.0, 6003.0: 0.0, 6005.0: 0.0, 6007.0: 174.0, 6009.0: 11.0, 6011.0: 26.0, 6013.0: 6016.0, 6015.0: 0.0, 6017.0: 12.0, 6019.0: 5386.0, 6021.0: 8.0, 6023.0: 269.0, 6025.0: 6756.0, 6027.0: 100.0, 6029.0: 5720.0, 6031.0: 1732.0, 6033.0: 28.0, 6035.0: 0.0, 6037.0: 280969.0, 6039.0: 635.0, 6041.0: 2367.0, 6043.0: 84.0, 6045.0: 63.0, 6047.0: 1068.0, 6049.0: 0.0, 6051.0: 123.0, 6053.0: 1275.0, 6055.0: 417.0, 6057.0: 120.0, 6059.0: 25264.0, 6061.0: 1127.0, 6063.0: 0.0, 6065.0: 39553.0, 6067.0: 7356.0, 6069.0: 264.0, 6071.0: 22906.0, 6073.0: 33309.0, 6075.0: 4614.0, 6077.0: 5544.0, 6079.0: 274.0, 6081.0: 9414.0, 6083.0: 2028.0, 6085.0: 16435.0, 6087.0: 319.0, 6089.0: 558.0, 6091.0: 0.0, 6093.0: 0.0, 6095.0: 2155.0, 6097.0: 908.0, 6099.0: 3906.0, 6101.0: 321.0, 6103.0: 97.0, 6105.0: 0.0, 6107.0: 10412.0, 6109.0: 10.0, 6111.0: 4140.0, 6113.0: 2582.0, 6115.0: 173.0, 8001.0: 13271.0, 8003.0: 383.0, 8005.0: 29943.0, 8007.0: 0.0, 8009.0: 0.0, 8011.0: 0.0, 8013.0: 6570.0, 8014.0: 2531.0, 8015.0: 1897.0, 8017.0: 0.0, 8019.0: 102.0, 8021.0: 0.0, 8023.0: 0.0, 8025.0: 135.0, 8027.0: 0.0, 8029.0: 115.0, 8031.0: 32937.0, 8033.0: 0.0, 8035.0: 4631.0, 8037.0: 940.0, 8039.0: 200.0, 8041.0: 10987.0, 8043.0: 0.0, 8045.0: 281.0, 8047.0: 0.0, 8049.0: 33.0, 8051.0: 638.0, 8053.0: 0.0, 8055.0: 31.0, 8057.0: 0.0, 8059.0: 17439.0, 8063.0: 286.0, 8065.0: 0.0, 8067.0: 99.0, 8069.0: 2826.0, 8071.0: 0.0, 8073.0: 0.0, 8075.0: 391.0, 8077.0: 13.0, 8079.0: 0.0, 8081.0: 22.0, 8083.0: 327.0, 8085.0: 1268.0, 8087.0: 3858.0, 8089.0: 120.0, 8091.0: 114.0, 8093.0: 15.0, 8095.0: 0.0, 8097.0: 253.0, 8099.0: 0.0, 8101.0: 2225.0, 8103.0: 0.0, 8105.0: 81.0, 8107.0: 599.0, 8109.0: 120.0, 8111.0: 0.0, 8113.0: 0.0, 8115.0: 3.0, 8117.0: 284.0, 8119.0: 245.0, 8121.0: 0.0, 8123.0: 13730.0, 8125.0: 0.0, 9001.0: 129121.0, 9003.0: 122656.0, 9005.0: 12995.0, 9007.0: 15663.0, 9009.0: 95779.0, 9011.0: 8492.0, 9013.0: 6131.0, 9015.0: 1233.0, 10001.0: 7167.0, 10003.0: 18570.0, 10005.0: 14116.0, 11001.0: 47156.0, 12001.0: 944.0, 12003.0: 395.0, 12005.0: 563.0, 12007.0: 225.0, 12009.0: 2334.0, 12011.0: 37488.0, 12013.0: 403.0, 12015.0: 6211.0, 12017.0: 1450.0, 12019.0: 3260.0, 12021.0: 6310.0, 12023.0: 317.0, 12027.0: 937.0, 12029.0: 227.0, 12031.0: 6313.0, 12033.0: 3909.0, 12035.0: 510.0, 12037.0: 10.0, 12039.0: 476.0, 12041.0: 10.0, 12043.0: 142.0, 12045.0: 2.0, 12047.0: 110.0, 12049.0: 156.0, 12051.0: 1850.0, 12053.0: 776.0, 12055.0: 1178.0, 12057.0: 12200.0, 12059.0: 22.0, 12061.0: 1501.0, 12063.0: 355.0, 12065.0: 345.0, 12067.0: 3.0, 12069.0: 2158.0, 12071.0: 13824.0, 12073.0: 755.0, 12075.0: 88.0, 12077.0: 73.0, 12079.0: 345.0, 12081.0: 11171.0, 12083.0: 1334.0, 12085.0: 2302.0, 12086.0: 85273.0, 12087.0: 480.0, 12089.0: 190.0, 12091.0: 821.0, 12093.0: 47.0, 12095.0: 6611.0, 12097.0: 2505.0, 12099.0: 44651.0, 12101.0: 2299.0, 12103.0: 14829.0, 12105.0: 9012.0, 12107.0: 594.0, 12109.0: 885.0, 12111.0: 4653.0, 12113.0: 1137.0, 12115.0: 8465.0, 12117.0: 2082.0, 12119.0: 1902.0, 12121.0: 1991.0, 12123.0: 54.0, 12125.0: 127.0, 12127.0: 5198.0, 12129.0: 116.0, 12131.0: 718.0, 12133.0: 698.0, 13001.0: 1227.0, 13003.0: 174.0, 13005.0: 322.0, 13007.0: 304.0, 13009.0: 2603.0, 13011.0: 87.0, 13013.0: 1911.0, 13015.0: 4283.0, 13017.0: 84.0, 13019.0: 4.0, 13021.0: 3097.0, 13023.0: 61.0, 13025.0: 257.0, 13027.0: 1005.0, 13029.0: 503.0, 13031.0: 392.0, 13033.0: 565.0, 13035.0: 2562.0, 13037.0: 582.0, 13039.0: 157.0, 13043.0: 18.0, 13045.0: 3173.0, 13047.0: 341.0, 13049.0: 136.0, 13051.0: 2913.0, 13053.0: 23.0, 13055.0: 211.0, 13057.0: 3603.0, 13059.0: 1670.0, 13061.0: 245.0, 13063.0: 6320.0, 13065.0: 200.0, 13067.0: 20276.0, 13069.0: 1465.0, 13071.0: 1619.0, 13073.0: 879.0, 13075.0: 227.0, 13077.0: 1144.0, 13079.0: 0.0, 13081.0: 936.0, 13083.0: 120.0, 13085.0: 228.0, 13087.0: 568.0, 13089.0: 13568.0, 13091.0: 174.0, 13093.0: 1245.0, 13095.0: 16120.0, 13097.0: 2896.0, 13099.0: 3012.0, 13101.0: 2.0, 13103.0: 118.0, 13105.0: 11.0, 13107.0: 221.0, 13109.0: 9.0, 13111.0: 113.0, 13113.0: 1656.0, 13115.0: 1527.0, 13117.0: 1395.0, 13119.0: 125.0, 13121.0: 26383.0, 13123.0: 118.0, 13125.0: 0.0, 13127.0: 512.0, 13129.0: 1753.0, 13131.0: 401.0, 13133.0: 755.0, 13135.0: 14693.0, 13137.0: 2747.0, 13139.0: 4968.0, 13141.0: 2214.0, 13143.0: 370.0, 13145.0: 735.0, 13147.0: 3.0, 13149.0: 259.0, 13151.0: 2671.0, 13153.0: 2389.0, 13155.0: 101.0, 13157.0: 716.0, 13159.0: 72.0, 13161.0: 202.0, 13163.0: 182.0, 13165.0: 701.0, 13167.0: 242.0, 13169.0: 20.0, 13171.0: 391.0, 13173.0: 242.0, 13175.0: 121.0, 13177.0: 2499.0, 13179.0: 79.0, 13181.0: 92.0, 13183.0: 72.0, 13185.0: 961.0, 13187.0: 226.0, 13189.0: 612.0, 13191.0: 71.0, 13193.0: 708.0, 13195.0: 263.0, 13197.0: 220.0, 13199.0: 226.0, 13201.0: 0.0, 13205.0: 3847.0, 13207.0: 1245.0, 13209.0: 0.0, 13211.0: 0.0, 13213.0: 130.0, 13215.0: 3404.0, 13217.0: 1286.0, 13219.0: 760.0, 13221.0: 616.0, 13223.0: 1351.0, 13225.0: 673.0, 13227.0: 427.0, 13229.0: 426.0, 13231.0: 274.0, 13233.0: 111.0, 13235.0: 188.0, 13237.0: 997.0, 13239.0: 108.0, 13241.0: 195.0, 13243.0: 2357.0, 13245.0: 3909.0, 13247.0: 1000.0, 13249.0: 117.0, 13251.0: 423.0, 13253.0: 216.0, 13255.0: 2455.0, 13257.0: 395.0, 13259.0: 167.0, 13261.0: 4603.0, 13263.0: 207.0, 13265.0: 0.0, 13267.0: 8.0, 13269.0: 233.0, 13271.0: 188.0, 13273.0: 2777.0, 13275.0: 3151.0, 13277.0: 1977.0, 13279.0: 474.0, 13281.0: 95.0, 13283.0: 66.0, 13285.0: 2275.0, 13287.0: 1411.0, 13289.0: 73.0, 13291.0: 254.0, 13293.0: 3635.0, 13295.0: 520.0, 13297.0: 1916.0, 13299.0: 1532.0, 13301.0: 0.0, 13303.0: 108.0, 13305.0: 25.0, 13307.0: 144.0, 13309.0: 7.0, 13311.0: 310.0, 13313.0: 1131.0, 13315.0: 1368.0, 13317.0: 117.0, 13319.0: 627.0, 13321.0: 2002.0, 15001.0: 0.0, 15003.0: 1343.0, 15007.0: 0.0, 15009.0: 640.0, 16001.0: 2644.0, 16003.0: 0.0, 16005.0: 66.0, 16007.0: 0.0, 16009.0: 0.0, 16011.0: 45.0, 16013.0: 613.0, 16015.0: 4.0, 16017.0: 0.0, 16019.0: 49.0, 16021.0: 0.0, 16025.0: 0.0, 16027.0: 1046.0, 16029.0: 0.0, 16031.0: 123.0, 16033.0: 0.0, 16035.0: 0.0, 16037.0: 0.0, 16039.0: 209.0, 16041.0: 0.0, 16043.0: 0.0, 16045.0: 0.0, 16047.0: 14.0, 16049.0: 0.0, 16051.0: 12.0, 16053.0: 363.0, 16055.0: 92.0, 16057.0: 0.0, 16059.0: 0.0, 16061.0: 0.0, 16063.0: 0.0, 16065.0: 0.0, 16067.0: 15.0, 16069.0: 2005.0, 16071.0: 0.0, 16073.0: 1.0, 16075.0: 202.0, 16077.0: 0.0, 16079.0: 3.0, 16081.0: 0.0, 16083.0: 2251.0, 16085.0: 16.0, 16087.0: 53.0, 17001.0: 95.0, 17003.0: 0.0, 17005.0: 120.0, 17007.0: 1758.0, 17009.0: 0.0, 17011.0: 120.0, 17013.0: 0.0, 17015.0: 229.0, 17017.0: 284.0, 17019.0: 1095.0, 17021.0: 585.0, 17023.0: 0.0, 17025.0: 0.0, 17027.0: 1422.0, 17029.0: 1216.0, 17031.0: 380098.0, 17033.0: 0.0, 17035.0: 23.0, 17037.0: 1205.0, 17039.0: 0.0, 17041.0: 13.0, 17043.0: 39269.0, 17045.0: 0.0, 17047.0: 0.0, 17049.0: 115.0, 17051.0: 279.0, 17053.0: 116.0, 17055.0: 0.0, 17057.0: 2.0, 17059.0: 0.0, 17061.0: 0.0, 17063.0: 269.0, 17065.0: 0.0, 17067.0: 60.0, 17069.0: 0.0, 17071.0: 0.0, 17073.0: 50.0, 17075.0: 393.0, 17077.0: 1450.0, 17079.0: 662.0, 17081.0: 1553.0, 17083.0: 98.0, 17085.0: 59.0, 17087.0: 0.0, 17089.0: 20263.0, 17091.0: 5529.0, 17093.0: 2026.0, 17095.0: 10.0, 17097.0: 33077.0, 17099.0: 1274.0, 17101.0: 0.0, 17103.0: 119.0, 17105.0: 175.0, 17107.0: 0.0, 17109.0: 1005.0, 17111.0: 8111.0, 17113.0: 1122.0, 17115.0: 1974.0, 17117.0: 198.0, 17119.0: 5635.0, 17121.0: 0.0, 17123.0: 0.0, 17125.0: 0.0, 17127.0: 0.0, 17129.0: 0.0, 17131.0: 0.0, 17133.0: 1247.0, 17135.0: 43.0, 17137.0: 251.0, 17139.0: 0.0, 17141.0: 356.0, 17143.0: 1776.0, 17145.0: 33.0, 17147.0: 0.0, 17149.0: 0.0, 17151.0: 0.0, 17153.0: 0.0, 17155.0: 0.0, 17157.0: 497.0, 17159.0: 0.0, 17161.0: 2469.0, 17163.0: 10662.0, 17165.0: 3.0, 17167.0: 2914.0, 17169.0: 0.0, 17171.0: 0.0, 17173.0: 94.0, 17175.0: 0.0, 17177.0: 350.0, 17179.0: 623.0, 17181.0: 1226.0, 17183.0: 139.0, 17185.0: 0.0, 17187.0: 0.0, 17189.0: 0.0, 17191.0: 79.0, 17193.0: 0.0, 17195.0: 1259.0, 17197.0: 28687.0, 17199.0: 255.0, 17201.0: 7204.0, 17203.0: 191.0, 18001.0: 157.0, 18003.0: 10200.0, 18005.0: 3976.0, 18007.0: 0.0, 18009.0: 174.0, 18011.0: 4058.0, 18013.0: 116.0, 18015.0: 198.0, 18017.0: 821.0, 18019.0: 4472.0, 18021.0: 280.0, 18023.0: 284.0, 18025.0: 111.0, 18027.0: 1792.0, 18029.0: 2114.0, 18031.0: 3655.0, 18033.0: 349.0, 18035.0: 3878.0, 18037.0: 416.0, 18039.0: 3913.0, 18041.0: 669.0, 18043.0: 3984.0, 18045.0: 228.0, 18047.0: 1022.0, 18049.0: 94.0, 18051.0: 145.0, 18053.0: 2480.0, 18055.0: 2744.0, 18057.0: 10036.0, 18059.0: 2973.0, 18061.0: 2064.0, 18063.0: 9537.0, 18065.0: 1093.0, 18067.0: 3975.0, 18069.0: 228.0, 18071.0: 283.0, 18073.0: 168.0, 18075.0: 0.0, 18077.0: 107.0, 18079.0: 919.0, 18081.0: 11523.0, 18083.0: 0.0, 18085.0: 418.0, 18087.0: 481.0, 18089.0: 21497.0, 18091.0: 2166.0, 18093.0: 2448.0, 18095.0: 7469.0, 18097.0: 64614.0, 18099.0: 490.0, 18101.0: 0.0, 18103.0: 133.0, 18105.0: 2013.0, 18107.0: 1546.0, 18109.0: 2621.0, 18111.0: 1089.0, 18113.0: 2371.0, 18115.0: 34.0, 18117.0: 2251.0, 18119.0: 113.0, 18121.0: 2.0, 18123.0: 479.0, 18125.0: 0.0, 18127.0: 2876.0, 18129.0: 0.0, 18131.0: 56.0, 18133.0: 744.0, 18135.0: 341.0, 18137.0: 692.0, 18139.0: 278.0, 18141.0: 5377.0, 18143.0: 587.0, 18145.0: 2983.0, 18147.0: 97.0, 18149.0: 344.0, 18151.0: 217.0, 18153.0: 73.0, 18155.0: 0.0, 18157.0: 649.0, 18159.0: 198.0, 18161.0: 0.0, 18163.0: 425.0, 18165.0: 0.0, 18167.0: 928.0, 18169.0: 211.0, 18171.0: 123.0, 18173.0: 2756.0, 18175.0: 87.0, 18177.0: 567.0, 18179.0: 45.0, 18181.0: 721.0, 18183.0: 353.0, 19001.0: 0.0, 19003.0: 0.0, 19005.0: 430.0, 19007.0: 312.0, 19009.0: 81.0, 19011.0: 116.0, 19013.0: 4466.0, 19015.0: 50.0, 19017.0: 571.0, 19019.0: 57.0, 19021.0: 566.0, 19023.0: 116.0, 19025.0: 65.0, 19027.0: 58.0, 19029.0: 1.0, 19031.0: 86.0, 19033.0: 301.0, 19035.0: 30.0, 19037.0: 0.0, 19039.0: 125.0, 19041.0: 24.0, 19043.0: 276.0, 19045.0: 112.0, 19047.0: 209.0, 19049.0: 2116.0, 19051.0: 54.0, 19053.0: 0.0, 19055.0: 71.0, 19057.0: 156.0, 19059.0: 125.0, 19061.0: 1758.0, 19063.0: 8.0, 19065.0: 0.0, 19067.0: 120.0, 19069.0: 36.0, 19071.0: 0.0, 19073.0: 0.0, 19075.0: 11.0, 19077.0: 293.0, 19079.0: 33.0, 19081.0: 43.0, 19083.0: 0.0, 19085.0: 0.0, 19087.0: 223.0, 19089.0: 0.0, 19091.0: 61.0, 19093.0: 0.0, 19095.0: 24.0, 19097.0: 3.0, 19099.0: 1420.0, 19101.0: 0.0, 19103.0: 835.0, 19105.0: 20.0, 19107.0: 46.0, 19109.0: 0.0, 19111.0: 85.0, 19113.0: 7683.0, 19115.0: 948.0, 19117.0: 203.0, 19119.0: 0.0, 19121.0: 175.0, 19123.0: 1066.0, 19125.0: 0.0, 19127.0: 1387.0, 19129.0: 0.0, 19131.0: 0.0, 19133.0: 0.0, 19135.0: 438.0, 19137.0: 118.0, 19139.0: 3690.0, 19141.0: 53.0, 19143.0: 0.0, 19145.0: 0.0, 19147.0: 0.0, 19149.0: 292.0, 19151.0: 42.0, 19153.0: 13385.0, 19155.0: 904.0, 19157.0: 734.0, 19159.0: 23.0, 19161.0: 0.0, 19163.0: 950.0, 19165.0: 2.0, 19167.0: 12.0, 19169.0: 336.0, 19171.0: 2409.0, 19173.0: 0.0, 19175.0: 17.0, 19177.0: 19.0, 19179.0: 1742.0, 19181.0: 71.0, 19183.0: 906.0, 19185.0: 17.0, 19187.0: 184.0, 19189.0: 0.0, 19191.0: 18.0, 19193.0: 3128.0, 19195.0: 0.0, 19197.0: 30.0, 20001.0: 0.0, 20003.0: 0.0, 20005.0: 0.0, 20007.0: 0.0, 20009.0: 158.0, 20011.0: 116.0, 20013.0: 0.0, 20015.0: 0.0, 20017.0: 0.0, 20019.0: 0.0, 20021.0: 25.0, 20023.0: 0.0, 20025.0: 27.0, 20027.0: 141.0, 20029.0: 0.0, 20031.0: 854.0, 20033.0: 0.0, 20035.0: 125.0, 20037.0: 124.0, 20039.0: 0.0, 20041.0: 27.0, 20043.0: 0.0, 20045.0: 23.0, 20047.0: 0.0, 20049.0: 0.0, 20051.0: 15.0, 20053.0: 0.0, 20055.0: 784.0, 20057.0: 658.0, 20059.0: 31.0, 20061.0: 60.0, 20063.0: 0.0, 20065.0: 0.0, 20067.0: 82.0, 20069.0: 0.0, 20071.0: 0.0, 20073.0: 0.0, 20075.0: 0.0, 20077.0: 0.0, 20079.0: 169.0, 20081.0: 0.0, 20083.0: 0.0, 20085.0: 66.0, 20087.0: 0.0, 20089.0: 0.0, 20091.0: 7492.0, 20093.0: 74.0, 20095.0: 0.0, 20097.0: 0.0, 20099.0: 0.0, 20101.0: 0.0, 20103.0: 681.0, 20105.0: 0.0, 20107.0: 0.0, 20109.0: 0.0, 20111.0: 508.0, 20113.0: 2.0, 20115.0: 96.0, 20117.0: 0.0, 20119.0: 0.0, 20121.0: 0.0, 20123.0: 0.0, 20125.0: 290.0, 20127.0: 0.0, 20129.0: 68.0, 20131.0: 0.0, 20133.0: 0.0, 20135.0: 0.0, 20137.0: 0.0, 20139.0: 0.0, 20141.0: 0.0, 20143.0: 0.0, 20145.0: 0.0, 20147.0: 116.0, 20149.0: 0.0, 20151.0: 0.0, 20155.0: 10.0, 20157.0: 0.0, 20159.0: 0.0, 20161.0: 195.0, 20163.0: 0.0, 20165.0: 0.0, 20167.0: 0.0, 20169.0: 255.0, 20171.0: 0.0, 20173.0: 2400.0, 20175.0: 168.0, 20177.0: 1002.0, 20179.0: 0.0, 20181.0: 0.0, 20183.0: 0.0, 20185.0: 0.0, 20187.0: 0.0, 20189.0: 0.0, 20191.0: 137.0, 20193.0: 0.0, 20195.0: 0.0, 20197.0: 0.0, 20201.0: 0.0, 20203.0: 0.0, 20205.0: 0.0, 20207.0: 0.0, 20209.0: 8082.0, 21001.0: 1733.0, 21003.0: 401.0, 21005.0: 133.0, 21007.0: 0.0, 21009.0: 124.0, 21011.0: 93.0, 21013.0: 20.0, 21015.0: 1666.0, 21017.0: 138.0, 21019.0: 338.0, 21021.0: 0.0, 21023.0: 0.0, 21025.0: 0.0, 21027.0: 147.0, 21029.0: 410.0, 21031.0: 1100.0, 21033.0: 0.0, 21035.0: 127.0, 21037.0: 1212.0, 21039.0: 92.0, 21041.0: 45.0, 21043.0: 18.0, 21045.0: 144.0, 21047.0: 386.0, 21049.0: 228.0, 21051.0: 186.0, 21053.0: 0.0, 21055.0: 103.0, 21057.0: 0.0, 21059.0: 716.0, 21061.0: 880.0, 21063.0: 0.0, 21065.0: 0.0, 21067.0: 2305.0, 21069.0: 0.0, 21071.0: 18.0, 21073.0: 207.0, 21075.0: 24.0, 21077.0: 445.0, 21079.0: 0.0, 21081.0: 412.0, 21083.0: 1909.0, 21085.0: 877.0, 21087.0: 48.0, 21089.0: 2.0, 21091.0: 0.0, 21093.0: 387.0, 21095.0: 88.0, 21097.0: 0.0, 21099.0: 0.0, 21101.0: 344.0, 21103.0: 100.0, 21105.0: 0.0, 21107.0: 3252.0, 21109.0: 1257.0, 21111.0: 18320.0, 21113.0: 0.0, 21115.0: 0.0, 21117.0: 3483.0, 21119.0: 3.0, 21121.0: 164.0, 21123.0: 53.0, 21125.0: 275.0, 21127.0: 0.0, 21129.0: 0.0, 21131.0: 0.0, 21133.0: 0.0, 21135.0: 0.0, 21137.0: 108.0, 21139.0: 5.0, 21141.0: 927.0, 21143.0: 338.0, 21145.0: 285.0, 21147.0: 0.0, 21149.0: 5.0, 21151.0: 118.0, 21153.0: 0.0, 21155.0: 0.0, 21157.0: 171.0, 21159.0: 0.0, 21161.0: 25.0, 21163.0: 198.0, 21165.0: 0.0, 21167.0: 0.0, 21169.0: 121.0, 21171.0: 61.0, 21173.0: 0.0, 21175.0: 0.0, 21177.0: 747.0, 21179.0: 89.0, 21181.0: 0.0, 21183.0: 55.0, 21185.0: 452.0, 21187.0: 0.0, 21189.0: 0.0, 21191.0: 0.0, 21193.0: 69.0, 21195.0: 239.0, 21197.0: 0.0, 21199.0: 233.0, 21201.0: 0.0, 21203.0: 0.0, 21205.0: 0.0, 21207.0: 417.0, 21209.0: 0.0, 21211.0: 946.0, 21213.0: 333.0, 21215.0: 0.0, 21217.0: 64.0, 21219.0: 0.0, 21221.0: 0.0, 21223.0: 0.0, 21225.0: 0.0, 21227.0: 951.0, 21229.0: 0.0, 21231.0: 0.0, 21233.0: 10.0, 21235.0: 9.0, 21237.0: 0.0, 21239.0: 0.0, 22001.0: 3103.0, 22003.0: 1242.0, 22005.0: 5957.0, 22007.0: 1298.0, 22009.0: 1242.0, 22011.0: 650.0, 22013.0: 2396.0, 22015.0: 3186.0, 22017.0: 20660.0, 22019.0: 5704.0, 22021.0: 58.0, 22023.0: 0.0, 22025.0: 316.0, 22027.0: 1021.0, 22029.0: 554.0, 22031.0: 1863.0, 22033.0: 24970.0, 22035.0: 37.0, 22037.0: 2873.0, 22039.0: 110.0, 22041.0: 1106.0, 22043.0: 134.0, 22045.0: 4061.0, 22047.0: 4301.0, 22049.0: 1237.0, 22051.0: 49316.0, 22053.0: 992.0, 22055.0: 3949.0, 22057.0: 7769.0, 22059.0: 26.0, 22061.0: 1586.0, 22063.0: 3207.0, 22065.0: 202.0, 22067.0: 716.0, 22069.0: 1191.0, 22071.0: 56559.0, 22073.0: 5870.0, 22075.0: 1913.0, 22077.0: 2427.0, 22079.0: 4621.0, 22081.0: 759.0, 22083.0: 299.0, 22085.0: 118.0, 22087.0: 2388.0, 22089.0: 5005.0, 22091.0: 107.0, 22093.0: 2833.0, 22095.0: 8984.0, 22097.0: 5701.0, 22099.0: 2686.0, 22101.0: 3358.0, 22103.0: 16897.0, 22105.0: 4010.0, 22107.0: 0.0, 22109.0: 5623.0, 22111.0: 1999.0, 22113.0: 542.0, 22115.0: 616.0, 22117.0: 4124.0, 22119.0: 885.0, 22121.0: 3065.0, 22123.0: 224.0, 22125.0: 1113.0, 22127.0: 388.0, 23001.0: 329.0, 23003.0: 71.0, 23005.0: 5321.0, 23007.0: 98.0, 23009.0: 85.0, 23011.0: 922.0, 23013.0: 59.0, 23015.0: 4.0, 23017.0: 0.0, 23019.0: 197.0, 23021.0: 0.0, 23023.0: 4.0, 23025.0: 7.0, 23027.0: 1428.0, 23029.0: 0.0, 23031.0: 1066.0, 24001.0: 1510.0, 24003.0: 17675.0, 24005.0: 37128.0, 24009.0: 2018.0, 24011.0: 153.0, 24013.0: 9651.0, 24015.0: 2330.0, 24017.0: 7623.0, 24019.0: 374.0, 24021.0: 10442.0, 24023.0: 2.0, 24025.0: 4932.0, 24027.0: 6784.0, 24029.0: 1782.0, 24031.0: 61180.0, 24033.0: 56642.0, 24035.0: 1451.0, 24037.0: 3221.0, 24039.0: 206.0, 24041.0: 299.0, 24043.0: 1872.0, 24045.0: 3007.0, 24047.0: 1230.0, 24510.0: 27850.0, 25001.0: 11898.0, 25003.0: 4556.0, 25005.0: 45691.0, 25007.0: 56.0, 25009.0: 94738.0, 25011.0: 5367.0, 25013.0: 60581.0, 25015.0: 9112.0, 25017.0: 163174.0, 25019.0: 34.0, 25021.0: 84148.0, 25023.0: 56915.0, 25025.0: 89946.0, 25027.0: 75557.0, 26001.0: 93.0, 26003.0: 0.0, 26005.0: 519.0, 26007.0: 1001.0, 26009.0: 1.0, 26011.0: 152.0, 26013.0: 0.0, 26015.0: 182.0, 26017.0: 2271.0, 26019.0: 17.0, 26021.0: 4810.0, 26023.0: 2358.0, 26025.0: 2748.0, 26027.0: 433.0, 26029.0: 160.0, 26031.0: 163.0, 26033.0: 8.0, 26035.0: 239.0, 26037.0: 1166.0, 26039.0: 490.0, 26041.0: 253.0, 26043.0: 232.0, 26045.0: 732.0, 26047.0: 242.0, 26049.0: 27291.0, 26051.0: 114.0, 26053.0: 128.0, 26055.0: 571.0, 26057.0: 946.0, 26059.0: 2475.0, 26061.0: 0.0, 26063.0: 173.0, 26065.0: 2534.0, 26067.0: 397.0, 26069.0: 945.0, 26071.0: 35.0, 26073.0: 834.0, 26075.0: 4995.0, 26077.0: 5551.0, 26079.0: 272.0, 26081.0: 10212.0, 26083.0: 0.0, 26085.0: 0.0, 26087.0: 3699.0, 26089.0: 0.0, 26091.0: 877.0, 26093.0: 2775.0, 26095.0: 0.0, 26097.0: 0.0, 26099.0: 87921.0, 26101.0: 16.0, 26103.0: 1098.0, 26105.0: 0.0, 26107.0: 217.0, 26109.0: 0.0, 26111.0: 836.0, 26113.0: 127.0, 26115.0: 2023.0, 26117.0: 116.0, 26119.0: 0.0, 26121.0: 3973.0, 26123.0: 0.0, 26125.0: 105780.0, 26127.0: 303.0, 26129.0: 118.0, 26131.0: 0.0, 26133.0: 0.0, 26135.0: 85.0, 26137.0: 1017.0, 26139.0: 3907.0, 26141.0: 7.0, 26143.0: 0.0, 26145.0: 10890.0, 26147.0: 4213.0, 26149.0: 322.0, 26151.0: 594.0, 26153.0: 0.0, 26155.0: 2356.0, 26157.0: 2428.0, 26159.0: 678.0, 26161.0: 10829.0, 26163.0: 261656.0, 26165.0: 305.0, 27001.0: 0.0, 27003.0: 7459.0, 27005.0: 4.0, 27007.0: 0.0, 27009.0: 242.0, 27011.0: 0.0, 27013.0: 126.0, 27015.0: 192.0, 27017.0: 0.0, 27019.0: 139.0, 27021.0: 166.0, 27023.0: 67.0, 27025.0: 120.0, 27027.0: 2892.0, 27029.0: 0.0, 27031.0: 0.0, 27033.0: 0.0, 27035.0: 670.0, 27037.0: 6168.0, 27039.0: 0.0, 27041.0: 0.0, 27043.0: 0.0, 27045.0: 57.0, 27047.0: 16.0, 27049.0: 479.0, 27051.0: 17.0, 27053.0: 62116.0, 27055.0: 0.0, 27057.0: 0.0, 27059.0: 0.0, 27061.0: 836.0, 27063.0: 0.0, 27065.0: 74.0, 27067.0: 95.0, 27069.0: 0.0, 27071.0: 61.0, 27073.0: 0.0, 27075.0: 0.0, 27077.0: 0.0, 27079.0: 81.0, 27081.0: 0.0, 27083.0: 132.0, 27085.0: 0.0, 27087.0: 87.0, 27089.0: 0.0, 27091.0: 567.0, 27093.0: 67.0, 27095.0: 146.0, 27097.0: 51.0, 27099.0: 135.0, 27101.0: 8.0, 27103.0: 873.0, 27105.0: 433.0, 27107.0: 0.0, 27109.0: 1360.0, 27111.0: 65.0, 27113.0: 9.0, 27115.0: 0.0, 27117.0: 149.0, 27119.0: 186.0, 27121.0: 0.0, 27123.0: 15476.0, 27125.0: 0.0, 27127.0: 0.0, 27129.0: 110.0, 27131.0: 413.0, 27133.0: 0.0, 27135.0: 0.0, 27137.0: 1478.0, 27139.0: 381.0, 27141.0: 281.0, 27143.0: 103.0, 27145.0: 1362.0, 27147.0: 30.0, 27149.0: 0.0, 27151.0: 57.0, 27153.0: 114.0, 27155.0: 0.0, 27157.0: 0.0, 27159.0: 0.0, 27161.0: 0.0, 27163.0: 3098.0, 27165.0: 0.0, 27167.0: 322.0, 27169.0: 1619.0, 27171.0: 272.0, 27173.0: 0.0, 28001.0: 1673.0, 28003.0: 129.0, 28005.0: 189.0, 28007.0: 1615.0, 28009.0: 0.0, 28011.0: 1399.0, 28013.0: 451.0, 28015.0: 880.0, 28017.0: 1479.0, 28019.0: 281.0, 28021.0: 595.0, 28023.0: 1794.0, 28025.0: 649.0, 28027.0: 493.0, 28029.0: 872.0, 28031.0: 312.0, 28033.0: 1234.0, 28035.0: 3522.0, 28037.0: 171.0, 28039.0: 217.0, 28041.0: 436.0, 28043.0: 557.0, 28045.0: 1211.0, 28047.0: 1098.0, 28049.0: 3538.0, 28051.0: 3045.0, 28053.0: 766.0, 28055.0: 35.0, 28057.0: 711.0, 28059.0: 1639.0, 28061.0: 425.0, 28063.0: 169.0, 28065.0: 293.0, 28067.0: 3139.0, 28069.0: 1054.0, 28071.0: 410.0, 28073.0: 589.0, 28075.0: 6498.0, 28077.0: 112.0, 28079.0: 1314.0, 28081.0: 1305.0, 28083.0: 3955.0, 28085.0: 2737.0, 28087.0: 1006.0, 28089.0: 2795.0, 28091.0: 968.0, 28093.0: 344.0, 28095.0: 2817.0, 28097.0: 184.0, 28099.0: 4709.0, 28101.0: 563.0, 28103.0: 575.0, 28105.0: 1675.0, 28107.0: 456.0, 28109.0: 2991.0, 28111.0: 338.0, 28113.0: 1394.0, 28115.0: 394.0, 28117.0: 315.0, 28119.0: 25.0, 28121.0: 1177.0, 28123.0: 1084.0, 28125.0: 6.0, 28127.0: 251.0, 28129.0: 980.0, 28131.0: 74.0, 28133.0: 603.0, 28135.0: 229.0, 28137.0: 543.0, 28139.0: 1183.0, 28141.0: 66.0, 28143.0: 300.0, 28145.0: 707.0, 28147.0: 353.0, 28149.0: 1212.0, 28151.0: 954.0, 28153.0: 765.0, 28155.0: 632.0, 28157.0: 993.0, 28159.0: 429.0, 28161.0: 527.0, 28163.0: 499.0, 29001.0: 0.0, 29003.0: 22.0, 29005.0: 0.0, 29007.0: 65.0, 29009.0: 0.0, 29011.0: 0.0, 29013.0: 110.0, 29015.0: 5.0, 29017.0: 5.0, 29019.0: 206.0, 29021.0: 356.0, 29023.0: 16.0, 29025.0: 22.0, 29027.0: 117.0, 29029.0: 161.0, 29031.0: 250.0, 29033.0: 0.0, 29035.0: 119.0, 29037.0: 881.0, 29039.0: 0.0, 29041.0: 0.0, 29043.0: 30.0, 29045.0: 0.0, 29047.0: 892.0, 29049.0: 0.0, 29051.0: 159.0, 29053.0: 0.0, 29055.0: 0.0, 29057.0: 0.0, 29059.0: 38.0, 29061.0: 0.0, 29063.0: 14.0, 29065.0: 0.0, 29067.0: 18.0, 29069.0: 268.0, 29071.0: 1642.0, 29073.0: 0.0, 29075.0: 480.0, 29077.0: 1030.0, 29079.0: 25.0, 29081.0: 15.0, 29083.0: 267.0, 29085.0: 0.0, 29087.0: 0.0, 29089.0: 0.0, 29091.0: 2.0, 29093.0: 0.0, 29095.0: 3001.0, 29097.0: 65.0, 29099.0: 1828.0, 29101.0: 45.0, 29103.0: 0.0, 29105.0: 22.0, 29107.0: 196.0, 29109.0: 53.0, 29111.0: 101.0, 29113.0: 115.0, 29115.0: 110.0, 29117.0: 0.0, 29119.0: 110.0, 29121.0: 0.0, 29123.0: 0.0, 29125.0: 0.0, 29127.0: 10.0, 29129.0: 0.0, 29131.0: 0.0, 29133.0: 0.0, 29135.0: 94.0, 29137.0: 0.0, 29139.0: 0.0, 29141.0: 0.0, 29143.0: 78.0, 29145.0: 163.0, 29147.0: 0.0, 29149.0: 0.0, 29151.0: 0.0, 29153.0: 0.0, 29155.0: 465.0, 29157.0: 71.0, 29159.0: 111.0, 29161.0: 0.0, 29163.0: 81.0, 29165.0: 316.0, 29167.0: 0.0, 29169.0: 122.0, 29171.0: 1.0, 29173.0: 0.0, 29175.0: 15.0, 29177.0: 0.0, 29179.0: 0.0, 29181.0: 0.0, 29183.0: 6666.0, 29185.0: 0.0, 29186.0: 117.0, 29187.0: 194.0, 29189.0: 45964.0, 29195.0: 267.0, 29197.0: 0.0, 29199.0: 52.0, 29201.0: 882.0, 29203.0: 2.0, 29205.0: 0.0, 29207.0: 517.0, 29209.0: 10.0, 29211.0: 0.0, 29213.0: 227.0, 29215.0: 0.0, 29217.0: 3.0, 29219.0: 0.0, 29221.0: 98.0, 29223.0: 0.0, 29225.0: 39.0, 29227.0: 0.0, 29229.0: 0.0, 29510.0: 13216.0, 30001.0: 0.0, 30003.0: 203.0, 30005.0: 0.0, 30007.0: 0.0, 30009.0: 0.0, 30013.0: 208.0, 30015.0: 0.0, 30017.0: 8.0, 30019.0: 0.0, 30021.0: 0.0, 30023.0: 0.0, 30025.0: 0.0, 30027.0: 0.0, 30029.0: 211.0, 30031.0: 99.0, 30033.0: 0.0, 30035.0: 8.0, 30037.0: 0.0, 30039.0: 0.0, 30041.0: 0.0, 30043.0: 0.0, 30045.0: 0.0, 30047.0: 8.0, 30049.0: 15.0, 30051.0: 0.0, 30053.0: 131.0, 30055.0: 0.0, 30057.0: 124.0, 30059.0: 0.0, 30063.0: 119.0, 30065.0: 0.0, 30067.0: 0.0, 30073.0: 0.0, 30075.0: 0.0, 30077.0: 0.0, 30081.0: 21.0, 30083.0: 1.0, 30085.0: 0.0, 30087.0: 36.0, 30089.0: 0.0, 30091.0: 0.0, 30093.0: 0.0, 30095.0: 0.0, 30097.0: 10.0, 30099.0: 0.0, 30101.0: 679.0, 30103.0: 0.0, 30105.0: 0.0, 30107.0: 0.0, 30109.0: 0.0, 30111.0: 601.0, 31001.0: 930.0, 31003.0: 38.0, 31007.0: 0.0, 31011.0: 0.0, 31013.0: 0.0, 31015.0: 0.0, 31019.0: 123.0, 31021.0: 0.0, 31023.0: 0.0, 31025.0: 35.0, 31027.0: 0.0, 31029.0: 0.0, 31031.0: 0.0, 31033.0: 0.0, 31035.0: 0.0, 31037.0: 295.0, 31039.0: 6.0, 31041.0: 406.0, 31043.0: 2541.0, 31045.0: 0.0, 31047.0: 655.0, 31049.0: 0.0, 31051.0: 91.0, 31053.0: 390.0, 31055.0: 6421.0, 31057.0: 0.0, 31059.0: 60.0, 31061.0: 0.0, 31063.0: 0.0, 31065.0: 52.0, 31067.0: 395.0, 31069.0: 0.0, 31071.0: 0.0, 31073.0: 0.0, 31077.0: 0.0, 31079.0: 4196.0, 31081.0: 1159.0, 31083.0: 0.0, 31087.0: 0.0, 31089.0: 0.0, 31091.0: 0.0, 31093.0: 275.0, 31095.0: 0.0, 31097.0: 0.0, 31099.0: 0.0, 31101.0: 0.0, 31105.0: 0.0, 31107.0: 0.0, 31109.0: 910.0, 31111.0: 219.0, 31117.0: 0.0, 31119.0: 420.0, 31121.0: 0.0, 31123.0: 0.0, 31125.0: 0.0, 31127.0: 0.0, 31129.0: 0.0, 31131.0: 0.0, 31133.0: 0.0, 31135.0: 4.0, 31137.0: 0.0, 31139.0: 0.0, 31141.0: 167.0, 31143.0: 0.0, 31145.0: 0.0, 31147.0: 52.0, 31149.0: 0.0, 31151.0: 143.0, 31153.0: 496.0, 31155.0: 131.0, 31157.0: 201.0, 31159.0: 102.0, 31161.0: 0.0, 31163.0: 0.0, 31165.0: 0.0, 31167.0: 0.0, 31169.0: 0.0, 31171.0: 0.0, 31173.0: 71.0, 31175.0: 0.0, 31177.0: 110.0, 31179.0: 0.0, 31181.0: 0.0, 31183.0: 0.0, 31185.0: 0.0, 32001.0: 103.0, 32003.0: 40088.0, 32005.0: 0.0, 32007.0: 130.0, 32011.0: 0.0, 32013.0: 377.0, 32015.0: 8.0, 32017.0: 0.0, 32019.0: 126.0, 32021.0: 0.0, 32023.0: 244.0, 32027.0: 0.0, 32029.0: 0.0, 32031.0: 6953.0, 32033.0: 17.0, 32510.0: 421.0, 33001.0: 113.0, 33003.0: 10.0, 33005.0: 230.0, 33007.0: 0.0, 33009.0: 92.0, 33011.0: 17377.0, 33013.0: 1521.0, 33015.0: 7250.0, 33017.0: 1203.0, 33019.0: 122.0, 34001.0: 16406.0, 34003.0: 176665.0, 34005.0: 33337.0, 34007.0: 39033.0, 34009.0: 5751.0, 34011.0: 9602.0, 34013.0: 182400.0, 34015.0: 14733.0, 34017.0: 127319.0, 34019.0: 8088.0, 34021.0: 49004.0, 34023.0: 110248.0, 34025.0: 67314.0, 34027.0: 68596.0, 34029.0: 80151.0, 34031.0: 100113.0, 34033.0: 5054.0, 34035.0: 45380.0, 34037.0: 16420.0, 34039.0: 114321.0, 34041.0: 13959.0, 35001.0: 7806.0, 35003.0: 98.0, 35005.0: 223.0, 35006.0: 910.0, 35007.0: 38.0, 35009.0: 31.0, 35013.0: 658.0, 35015.0: 146.0, 35017.0: 15.0, 35019.0: 0.0, 35021.0: 0.0, 35023.0: 0.0, 35025.0: 25.0, 35027.0: 11.0, 35028.0: 0.0, 35029.0: 168.0, 35031.0: 12662.0, 35033.0: 0.0, 35035.0: 438.0, 35037.0: 103.0, 35039.0: 81.0, 35041.0: 47.0, 35043.0: 2656.0, 35045.0: 12801.0, 35047.0: 0.0, 35049.0: 247.0, 35051.0: 0.0, 35053.0: 423.0, 35055.0: 39.0, 35057.0: 86.0, 35059.0: 0.0, 35061.0: 164.0, 36001.0: 14002.0, 36003.0: 7.0, 36007.0: 5100.0, 36009.0: 334.0, 36011.0: 117.0, 36013.0: 353.0, 36015.0: 501.0, 36017.0: 227.0, 36019.0: 432.0, 36021.0: 3765.0, 36023.0: 0.0, 36025.0: 6.0, 36027.0: 14535.0, 36029.0: 52150.0, 36031.0: 0.0, 36033.0: 15.0, 36035.0: 1354.0, 36037.0: 508.0, 36039.0: 400.0, 36041.0: 0.0, 36043.0: 140.0, 36045.0: 0.0, 36049.0: 0.0, 36051.0: 389.0, 36053.0: 450.0, 36055.0: 22110.0, 36057.0: 420.0, 36059.0: 277116.0, 36063.0: 5193.0, 36065.0: 6737.0, 36067.0: 13614.0, 36069.0: 1785.0, 36071.0: 38402.0, 36073.0: 2867.0, 36075.0: 14.0, 36077.0: 636.0, 36079.0: 6241.0, 36083.0: 3374.0, 36087.0: 48273.0, 36089.0: 279.0, 36091.0: 458.0, 36093.0: 3316.0, 36095.0: 0.0, 36097.0: 0.0, 36099.0: 22.0, 36101.0: 1836.0, 36103.0: 196418.0, 36105.0: 2820.0, 36107.0: 1599.0, 36109.0: 222.0, 36111.0: 4134.0, 36113.0: 2734.0, 36115.0: 956.0, 36117.0: 87.0, 36119.0: 156977.0, 36121.0: 338.0, 36123.0: 507.0, 37001.0: 2428.0, 37003.0: 44.0, 37005.0: 0.0, 37007.0: 72.0, 37009.0: 52.0, 37011.0: 0.0, 37013.0: 10.0, 37015.0: 364.0, 37017.0: 256.0, 37019.0: 693.0, 37021.0: 2772.0, 37023.0: 1692.0, 37025.0: 2523.0, 37027.0: 325.0, 37029.0: 38.0, 37031.0: 353.0, 37033.0: 114.0, 37035.0: 837.0, 37037.0: 3157.0, 37039.0: 161.0, 37041.0: 2.0, 37043.0: 0.0, 37045.0: 438.0, 37047.0: 2816.0, 37049.0: 584.0, 37051.0: 2757.0, 37053.0: 0.0, 37055.0: 120.0, 37057.0: 1290.0, 37059.0: 279.0, 37061.0: 1894.0, 37063.0: 5221.0, 37065.0: 826.0, 37067.0: 2302.0, 37069.0: 2134.0, 37071.0: 1084.0, 37073.0: 117.0, 37075.0: 0.0, 37077.0: 1490.0, 37079.0: 189.0, 37081.0: 8608.0, 37083.0: 246.0, 37085.0: 2506.0, 37087.0: 7.0, 37089.0: 4349.0, 37091.0: 576.0, 37093.0: 223.0, 37095.0: 0.0, 37097.0: 730.0, 37099.0: 122.0, 37101.0: 2742.0, 37103.0: 279.0, 37105.0: 496.0, 37107.0: 791.0, 37109.0: 59.0, 37111.0: 165.0, 37113.0: 118.0, 37115.0: 0.0, 37117.0: 371.0, 37119.0: 11938.0, 37121.0: 25.0, 37123.0: 582.0, 37125.0: 1092.0, 37127.0: 482.0, 37129.0: 617.0, 37131.0: 1243.0, 37133.0: 334.0, 37135.0: 3722.0, 37137.0: 18.0, 37139.0: 1129.0, 37141.0: 128.0, 37143.0: 179.0, 37145.0: 96.0, 37147.0: 412.0, 37149.0: 328.0, 37151.0: 1919.0, 37153.0: 455.0, 37155.0: 2761.0, 37157.0: 249.0, 37159.0: 3746.0, 37161.0: 889.0, 37163.0: 419.0, 37165.0: 63.0, 37167.0: 493.0, 37169.0: 53.0, 37171.0: 196.0, 37173.0: 45.0, 37175.0: 58.0, 37177.0: 24.0, 37179.0: 2240.0, 37181.0: 2659.0, 37183.0: 4835.0, 37185.0: 279.0, 37187.0: 316.0, 37189.0: 0.0, 37191.0: 2229.0, 37193.0: 487.0, 37195.0: 1590.0, 37197.0: 328.0, 37199.0: 0.0, 38001.0: 0.0, 38003.0: 0.0, 38005.0: 13.0, 38007.0: 0.0, 38009.0: 0.0, 38011.0: 0.0, 38013.0: 0.0, 38015.0: 35.0, 38017.0: 5232.0, 38019.0: 0.0, 38021.0: 0.0, 38023.0: 0.0, 38025.0: 0.0, 38027.0: 0.0, 38029.0: 116.0, 38031.0: 0.0, 38033.0: 0.0, 38035.0: 307.0, 38037.0: 0.0, 38039.0: 0.0, 38041.0: 0.0, 38043.0: 0.0, 38045.0: 0.0, 38047.0: 0.0, 38049.0: 124.0, 38051.0: 8.0, 38053.0: 4.0, 38055.0: 0.0, 38057.0: 0.0, 38059.0: 249.0, 38061.0: 16.0, 38063.0: 0.0, 38065.0: 0.0, 38067.0: 0.0, 38069.0: 0.0, 38071.0: 77.0, 38073.0: 0.0, 38075.0: 0.0, 38077.0: 0.0, 38079.0: 0.0, 38081.0: 0.0, 38083.0: 0.0, 38085.0: 0.0, 38087.0: 0.0, 38089.0: 258.0, 38091.0: 0.0, 38093.0: 66.0, 38095.0: 0.0, 38097.0: 0.0, 38099.0: 0.0, 38101.0: 111.0, 38103.0: 0.0, 38105.0: 20.0, 39001.0: 94.0, 39003.0: 3477.0, 39005.0: 85.0, 39007.0: 3467.0, 39009.0: 124.0, 39011.0: 363.0, 39013.0: 1677.0, 39015.0: 123.0, 39017.0: 3249.0, 39019.0: 263.0, 39021.0: 113.0, 39023.0: 688.0, 39025.0: 582.0, 39027.0: 74.0, 39029.0: 5161.0, 39031.0: 114.0, 39033.0: 362.0, 39035.0: 28942.0, 39037.0: 2294.0, 39039.0: 222.0, 39041.0: 1228.0, 39043.0: 1482.0, 39045.0: 1011.0, 39047.0: 0.0, 39049.0: 30369.0, 39051.0: 1.0, 39053.0: 130.0, 39055.0: 3299.0, 39057.0: 714.0, 39059.0: 216.0, 39061.0: 16350.0, 39063.0: 127.0, 39065.0: 542.0, 39067.0: 42.0, 39069.0: 4.0, 39071.0: 89.0, 39073.0: 529.0, 39075.0: 267.0, 39077.0: 176.0, 39079.0: 0.0, 39081.0: 189.0, 39083.0: 133.0, 39085.0: 1593.0, 39087.0: 2.0, 39089.0: 1198.0, 39091.0: 32.0, 39093.0: 6024.0, 39095.0: 24930.0, 39097.0: 730.0, 39099.0: 19339.0, 39101.0: 2771.0, 39103.0: 2662.0, 39105.0: 0.0, 39107.0: 658.0, 39109.0: 3369.0, 39111.0: 1115.0, 39113.0: 2458.0, 39115.0: 0.0, 39117.0: 100.0, 39119.0: 60.0, 39121.0: 0.0, 39123.0: 1511.0, 39125.0: 2.0, 39127.0: 88.0, 39129.0: 3452.0, 39131.0: 0.0, 39133.0: 5737.0, 39135.0: 125.0, 39137.0: 1359.0, 39139.0: 427.0, 39141.0: 225.0, 39143.0: 1153.0, 39145.0: 4.0, 39147.0: 205.0, 39149.0: 276.0, 39151.0: 9691.0, 39153.0: 16438.0, 39155.0: 5813.0, 39157.0: 608.0, 39159.0: 65.0, 39161.0: 22.0, 39163.0: 133.0, 39165.0: 2058.0, 39167.0: 1866.0, 39169.0: 4946.0, 39171.0: 154.0, 39173.0: 4536.0, 39175.0: 358.0, 40001.0: 405.0, 40003.0: 0.0, 40005.0: 0.0, 40007.0: 0.0, 40009.0: 0.0, 40011.0: 0.0, 40013.0: 102.0, 40015.0: 1014.0, 40017.0: 361.0, 40019.0: 135.0, 40021.0: 116.0, 40023.0: 65.0, 40025.0: 0.0, 40027.0: 4093.0, 40029.0: 0.0, 40031.0: 471.0, 40033.0: 185.0, 40035.0: 0.0, 40037.0: 809.0, 40039.0: 0.0, 40041.0: 1628.0, 40043.0: 0.0, 40045.0: 0.0, 40047.0: 162.0, 40049.0: 148.0, 40051.0: 365.0, 40053.0: 0.0, 40055.0: 760.0, 40057.0: 0.0, 40059.0: 0.0, 40061.0: 0.0, 40063.0: 15.0, 40065.0: 215.0, 40067.0: 0.0, 40069.0: 0.0, 40071.0: 805.0, 40073.0: 0.0, 40075.0: 39.0, 40077.0: 119.0, 40079.0: 85.0, 40081.0: 179.0, 40083.0: 94.0, 40085.0: 0.0, 40087.0: 307.0, 40089.0: 483.0, 40091.0: 74.0, 40093.0: 109.0, 40095.0: 0.0, 40097.0: 474.0, 40099.0: 0.0, 40101.0: 942.0, 40103.0: 40.0, 40105.0: 53.0, 40107.0: 0.0, 40109.0: 6496.0, 40111.0: 5.0, 40113.0: 951.0, 40115.0: 180.0, 40117.0: 268.0, 40119.0: 124.0, 40121.0: 294.0, 40123.0: 201.0, 40125.0: 472.0, 40127.0: 0.0, 40129.0: 0.0, 40131.0: 620.0, 40133.0: 287.0, 40135.0: 342.0, 40137.0: 125.0, 40139.0: 515.0, 40141.0: 81.0, 40143.0: 6254.0, 40145.0: 1867.0, 40147.0: 3454.0, 40149.0: 0.0, 40151.0: 0.0, 40153.0: 0.0, 41001.0: 0.0, 41003.0: 581.0, 41005.0: 1879.0, 41007.0: 0.0, 41009.0: 0.0, 41011.0: 0.0, 41013.0: 23.0, 41015.0: 0.0, 41017.0: 43.0, 41019.0: 17.0, 41021.0: 0.0, 41023.0: 0.0, 41025.0: 0.0, 41027.0: 0.0, 41029.0: 3.0, 41031.0: 12.0, 41033.0: 112.0, 41035.0: 30.0, 41037.0: 0.0, 41039.0: 298.0, 41041.0: 206.0, 41043.0: 978.0, 41045.0: 154.0, 41047.0: 3801.0, 41049.0: 45.0, 41051.0: 6786.0, 41053.0: 991.0, 41055.0: 0.0, 41057.0: 0.0, 41059.0: 507.0, 41061.0: 58.0, 41063.0: 14.0, 41065.0: 130.0, 41067.0: 1927.0, 41071.0: 890.0, 42001.0: 970.0, 42003.0: 17105.0, 42005.0: 485.0, 42007.0: 7863.0, 42009.0: 253.0, 42011.0: 29454.0, 42013.0: 86.0, 42015.0: 366.0, 42017.0: 48466.0, 42019.0: 1199.0, 42021.0: 268.0, 42023.0: 0.0, 42025.0: 2356.0, 42027.0: 619.0, 42029.0: 27281.0, 42031.0: 180.0, 42033.0: 0.0, 42035.0: 254.0, 42037.0: 3005.0, 42039.0: 24.0, 42041.0: 5171.0, 42043.0: 9559.0, 42045.0: 57971.0, 42047.0: 40.0, 42049.0: 784.0, 42051.0: 445.0, 42053.0: 0.0, 42055.0: 3345.0, 42057.0: 84.0, 42059.0: 15.0, 42061.0: 255.0, 42063.0: 550.0, 42065.0: 50.0, 42067.0: 397.0, 42069.0: 17409.0, 42071.0: 31933.0, 42073.0: 905.0, 42075.0: 3472.0, 42077.0: 23777.0, 42079.0: 15424.0, 42081.0: 1436.0, 42083.0: 86.0, 42085.0: 501.0, 42087.0: 75.0, 42089.0: 10062.0, 42091.0: 69976.0, 42093.0: 74.0, 42095.0: 22267.0, 42097.0: 447.0, 42099.0: 350.0, 42101.0: 135712.0, 42103.0: 2057.0, 42105.0: 0.0, 42107.0: 3388.0, 42109.0: 164.0, 42111.0: 88.0, 42113.0: 0.0, 42115.0: 1812.0, 42117.0: 214.0, 42119.0: 144.0, 42121.0: 0.0, 42123.0: 59.0, 42125.0: 579.0, 42127.0: 763.0, 42129.0: 3904.0, 42131.0: 590.0, 42133.0: 3859.0, 44001.0: 922.0, 44003.0: 6767.0, 44005.0: 432.0, 44007.0: 54610.0, 44009.0: 4768.0, 45001.0: 65.0, 45003.0: 1043.0, 45005.0: 273.0, 45007.0: 1431.0, 45009.0: 134.0, 45011.0: 93.0, 45013.0: 1883.0, 45015.0: 2210.0, 45017.0: 179.0, 45019.0: 3551.0, 45021.0: 561.0, 45023.0: 180.0, 45025.0: 809.0, 45027.0: 3829.0, 45029.0: 1535.0, 45031.0: 1183.0, 45033.0: 685.0, 45035.0: 698.0, 45037.0: 264.0, 45039.0: 1517.0, 45041.0: 4417.0, 45043.0: 544.0, 45045.0: 7674.0, 45047.0: 461.0, 45049.0: 155.0, 45051.0: 4499.0, 45053.0: 272.0, 45055.0: 1597.0, 45057.0: 957.0, 45059.0: 774.0, 45061.0: 1757.0, 45063.0: 4407.0, 45065.0: 148.0, 45067.0: 620.0, 45069.0: 228.0, 45071.0: 289.0, 45073.0: 76.0, 45075.0: 1223.0, 45077.0: 530.0, 45079.0: 7663.0, 45081.0: 138.0, 45083.0: 3605.0, 45085.0: 2231.0, 45087.0: 13.0, 45089.0: 1227.0, 45091.0: 1051.0, 46003.0: 0.0, 46005.0: 543.0, 46007.0: 0.0, 46009.0: 0.0, 46011.0: 0.0, 46013.0: 120.0, 46015.0: 0.0, 46017.0: 98.0, 46019.0: 17.0, 46021.0: 0.0, 46023.0: 0.0, 46025.0: 0.0, 46027.0: 0.0, 46029.0: 0.0, 46031.0: 0.0, 46033.0: 0.0, 46035.0: 146.0, 46037.0: 0.0, 46039.0: 0.0, 46041.0: 0.0, 46043.0: 0.0, 46045.0: 0.0, 46047.0: 0.0, 46049.0: 37.0, 46051.0: 0.0, 46053.0: 0.0, 46055.0: 0.0, 46057.0: 0.0, 46059.0: 0.0, 46061.0: 0.0, 46065.0: 44.0, 46067.0: 0.0, 46069.0: 0.0, 46071.0: 43.0, 46073.0: 99.0, 46075.0: 0.0, 46077.0: 0.0, 46079.0: 62.0, 46081.0: 0.0, 46083.0: 48.0, 46085.0: 33.0, 46087.0: 114.0, 46089.0: 0.0, 46091.0: 0.0, 46093.0: 57.0, 46095.0: 0.0, 46097.0: 0.0, 46099.0: 4640.0, 46101.0: 0.0, 46102.0: 16.0, 46103.0: 909.0, 46105.0: 0.0, 46107.0: 0.0, 46109.0: 3.0, 46111.0: 0.0, 46115.0: 0.0, 46117.0: 0.0, 46119.0: 0.0, 46121.0: 111.0, 46123.0: 0.0, 46125.0: 0.0, 46127.0: 70.0, 46129.0: 0.0, 46135.0: 44.0, 46137.0: 0.0, 47001.0: 195.0, 47003.0: 540.0, 47005.0: 100.0, 47007.0: 81.0, 47009.0: 402.0, 47011.0: 307.0, 47013.0: 108.0, 47015.0: 0.0, 47017.0: 119.0, 47019.0: 142.0, 47021.0: 96.0, 47023.0: 2.0, 47025.0: 0.0, 47027.0: 0.0, 47029.0: 16.0, 47031.0: 2.0, 47033.0: 202.0, 47035.0: 261.0, 47037.0: 9383.0, 47039.0: 2.0, 47041.0: 13.0, 47043.0: 5.0, 47045.0: 108.0, 47047.0: 296.0, 47049.0: 0.0, 47051.0: 213.0, 47053.0: 102.0, 47055.0: 87.0, 47057.0: 0.0, 47059.0: 265.0, 47061.0: 133.0, 47063.0: 377.0, 47065.0: 2660.0, 47067.0: 5.0, 47069.0: 211.0, 47071.0: 351.0, 47073.0: 236.0, 47075.0: 222.0, 47077.0: 0.0, 47079.0: 7.0, 47081.0: 0.0, 47083.0: 0.0, 47085.0: 133.0, 47087.0: 1.0, 47089.0: 36.0, 47091.0: 0.0, 47093.0: 915.0, 47095.0: 0.0, 47097.0: 186.0, 47099.0: 231.0, 47101.0: 7.0, 47103.0: 9.0, 47105.0: 88.0, 47107.0: 1318.0, 47109.0: 40.0, 47111.0: 483.0, 47113.0: 258.0, 47115.0: 253.0, 47117.0: 136.0, 47119.0: 185.0, 47121.0: 0.0, 47123.0: 378.0, 47125.0: 514.0, 47127.0: 0.0, 47129.0: 46.0, 47131.0: 193.0, 47133.0: 31.0, 47135.0: 0.0, 47137.0: 15.0, 47139.0: 2.0, 47141.0: 661.0, 47143.0: 10.0, 47145.0: 7.0, 47147.0: 683.0, 47149.0: 2922.0, 47151.0: 0.0, 47153.0: 0.0, 47155.0: 262.0, 47157.0: 15263.0, 47159.0: 133.0, 47161.0: 0.0, 47163.0: 282.0, 47165.0: 5296.0, 47167.0: 382.0, 47169.0: 429.0, 47171.0: 0.0, 47173.0: 0.0, 47175.0: 0.0, 47177.0: 47.0, 47179.0: 8.0, 47181.0: 8.0, 47183.0: 44.0, 47185.0: 138.0, 47187.0: 1370.0, 47189.0: 1197.0, 48001.0: 151.0, 48003.0: 78.0, 48005.0: 645.0, 48007.0: 47.0, 48009.0: 0.0, 48011.0: 0.0, 48013.0: 232.0, 48015.0: 24.0, 48017.0: 55.0, 48019.0: 7.0, 48021.0: 570.0, 48023.0: 0.0, 48025.0: 46.0, 48027.0: 952.0, 48029.0: 13527.0, 48031.0: 69.0, 48035.0: 9.0, 48037.0: 1787.0, 48039.0: 1906.0, 48041.0: 2842.0, 48043.0: 37.0, 48045.0: 22.0, 48047.0: 7.0, 48049.0: 983.0, 48051.0: 24.0, 48053.0: 208.0, 48055.0: 244.0, 48057.0: 302.0, 48059.0: 140.0, 48061.0: 6303.0, 48063.0: 88.0, 48065.0: 0.0, 48067.0: 209.0, 48069.0: 125.0, 48071.0: 138.0, 48073.0: 193.0, 48075.0: 0.0, 48077.0: 5.0, 48079.0: 0.0, 48081.0: 39.0, 48083.0: 0.0, 48085.0: 4293.0, 48087.0: 0.0, 48089.0: 9.0, 48091.0: 1505.0, 48093.0: 103.0, 48095.0: 3.0, 48097.0: 13.0, 48099.0: 229.0, 48101.0: 89.0, 48103.0: 430.0, 48105.0: 30.0, 48107.0: 133.0, 48109.0: 26.0, 48111.0: 74.0, 48113.0: 31404.0, 48115.0: 129.0, 48117.0: 1148.0, 48119.0: 0.0, 48121.0: 3729.0, 48123.0: 261.0, 48125.0: 5.0, 48127.0: 1.0, 48129.0: 0.0, 48131.0: 8.0, 48133.0: 5.0, 48135.0: 1148.0, 48137.0: 0.0, 48139.0: 1657.0, 48141.0: 10363.0, 48143.0: 135.0, 48145.0: 7.0, 48147.0: 407.0, 48149.0: 274.0, 48151.0: 70.0, 48153.0: 71.0, 48155.0: 0.0, 48157.0: 5476.0, 48159.0: 23.0, 48161.0: 0.0, 48163.0: 37.0, 48165.0: 0.0, 48167.0: 4408.0, 48169.0: 27.0, 48171.0: 10.0, 48173.0: 0.0, 48175.0: 16.0, 48177.0: 331.0, 48179.0: 235.0, 48181.0: 363.0, 48183.0: 913.0, 48185.0: 240.0, 48187.0: 286.0, 48189.0: 812.0, 48191.0: 51.0, 48193.0: 74.0, 48195.0: 177.0, 48197.0: 0.0, 48199.0: 516.0, 48201.0: 35171.0, 48203.0: 2373.0, 48205.0: 175.0, 48207.0: 0.0, 48209.0: 762.0, 48211.0: 0.0, 48213.0: 265.0, 48215.0: 9342.0, 48217.0: 130.0, 48219.0: 163.0, 48221.0: 420.0, 48223.0: 14.0, 48225.0: 20.0, 48227.0: 133.0, 48229.0: 10.0, 48231.0: 582.0, 48233.0: 20.0, 48235.0: 0.0, 48237.0: 0.0, 48239.0: 91.0, 48241.0: 214.0, 48243.0: 0.0, 48245.0: 3383.0, 48247.0: 5.0, 48249.0: 22.0, 48251.0: 495.0, 48253.0: 0.0, 48255.0: 15.0, 48257.0: 357.0, 48259.0: 6.0, 48261.0: 3.0, 48263.0: 0.0, 48265.0: 75.0, 48267.0: 0.0, 48271.0: 0.0, 48273.0: 128.0, 48275.0: 0.0, 48277.0: 966.0, 48279.0: 62.0, 48281.0: 4.0, 48283.0: 5.0, 48285.0: 152.0, 48287.0: 196.0, 48289.0: 7.0, 48291.0: 364.0, 48293.0: 130.0, 48295.0: 0.0, 48297.0: 15.0, 48299.0: 1.0, 48303.0: 5710.0, 48305.0: 138.0, 48307.0: 3.0, 48309.0: 1075.0, 48311.0: 0.0, 48313.0: 0.0, 48315.0: 125.0, 48317.0: 94.0, 48319.0: 0.0, 48321.0: 626.0, 48323.0: 480.0, 48325.0: 352.0, 48327.0: 0.0, 48329.0: 1580.0, 48331.0: 123.0, 48333.0: 0.0, 48335.0: 0.0, 48337.0: 102.0, 48339.0: 3206.0, 48341.0: 1211.0, 48343.0: 5.0, 48345.0: 0.0, 48347.0: 2235.0, 48349.0: 486.0, 48351.0: 20.0, 48353.0: 26.0, 48355.0: 2765.0, 48357.0: 184.0, 48359.0: 129.0, 48361.0: 360.0, 48363.0: 209.0, 48365.0: 1908.0, 48367.0: 119.0, 48369.0: 290.0, 48371.0: 25.0, 48373.0: 45.0, 48375.0: 3050.0, 48377.0: 0.0, 48379.0: 20.0, 48381.0: 735.0, 48383.0: 37.0, 48385.0: 0.0, 48387.0: 677.0, 48389.0: 43.0, 48391.0: 0.0, 48393.0: 0.0, 48395.0: 5.0, 48397.0: 1171.0, 48399.0: 8.0, 48401.0: 229.0, 48403.0: 84.0, 48405.0: 525.0, 48407.0: 61.0, 48409.0: 73.0, 48411.0: 0.0, 48413.0: 24.0, 48415.0: 25.0, 48417.0: 0.0, 48419.0: 816.0, 48421.0: 0.0, 48423.0: 640.0, 48425.0: 0.0, 48427.0: 448.0, 48429.0: 10.0, 48433.0: 0.0, 48435.0: 5.0, 48437.0: 61.0, 48439.0: 19604.0, 48441.0: 699.0, 48443.0: 0.0, 48445.0: 8.0, 48447.0: 0.0, 48449.0: 370.0, 48451.0: 342.0, 48453.0: 12087.0, 48455.0: 10.0, 48457.0: 3.0, 48459.0: 12.0, 48461.0: 5.0, 48463.0: 95.0, 48465.0: 184.0, 48467.0: 207.0, 48469.0: 1025.0, 48471.0: 2264.0, 48473.0: 22.0, 48475.0: 16.0, 48477.0: 2611.0, 48479.0: 3453.0, 48481.0: 156.0, 48483.0: 0.0, 48485.0: 334.0, 48487.0: 5.0, 48489.0: 307.0, 48491.0: 3616.0, 48493.0: 521.0, 48495.0: 5.0, 48497.0: 389.0, 48499.0: 306.0, 48501.0: 10.0, 48503.0: 118.0, 48505.0: 17.0, 48507.0: 94.0, 49001.0: 0.0, 49003.0: 114.0, 49005.0: 118.0, 49007.0: 0.0, 49011.0: 476.0, 49013.0: 0.0, 49015.0: 0.0, 49017.0: 34.0, 49019.0: 0.0, 49021.0: 30.0, 49023.0: 2.0, 49025.0: 0.0, 49027.0: 0.0, 49029.0: 0.0, 49031.0: 0.0, 49033.0: 0.0, 49035.0: 9144.0, 49037.0: 800.0, 49039.0: 0.0, 49041.0: 19.0, 49043.0: 29.0, 49045.0: 0.0, 49047.0: 0.0, 49049.0: 1923.0, 49051.0: 243.0, 49053.0: 298.0, 49055.0: 0.0, 49057.0: 987.0, 50001.0: 216.0, 50003.0: 115.0, 50005.0: 0.0, 50007.0: 4163.0, 50009.0: 0.0, 50011.0: 591.0, 50013.0: 0.0, 50015.0: 115.0, 50017.0: 0.0, 50019.0: 0.0, 50021.0: 107.0, 50023.0: 109.0, 50025.0: 315.0, 50027.0: 250.0, 51001.0: 1154.0, 51003.0: 735.0, 51005.0: 144.0, 51007.0: 102.0, 51009.0: 4.0, 51011.0: 0.0, 51013.0: 10681.0, 51015.0: 171.0, 51017.0: 0.0, 51019.0: 225.0, 51021.0: 0.0, 51023.0: 379.0, 51025.0: 78.0, 51027.0: 0.0, 51029.0: 321.0, 51031.0: 82.0, 51033.0: 284.0, 51035.0: 451.0, 51036.0: 206.0, 51037.0: 0.0, 51041.0: 4263.0, 51043.0: 0.0, 51045.0: 0.0, 51047.0: 787.0, 51049.0: 0.0, 51051.0: 0.0, 51053.0: 64.0, 51057.0: 7.0, 51059.0: 38472.0, 51061.0: 578.0, 51063.0: 58.0, 51065.0: 661.0, 51067.0: 82.0, 51069.0: 411.0, 51071.0: 0.0, 51073.0: 105.0, 51075.0: 569.0, 51077.0: 151.0, 51079.0: 127.0, 51081.0: 737.0, 51083.0: 59.0, 51085.0: 2297.0, 51087.0: 14527.0, 51089.0: 309.0, 51091.0: 0.0, 51093.0: 585.0, 51095.0: 1622.0, 51097.0: 65.0, 51099.0: 406.0, 51101.0: 60.0, 51103.0: 0.0, 51105.0: 1.0, 51107.0: 6820.0, 51109.0: 96.0, 51111.0: 2.0, 51113.0: 89.0, 51115.0: 0.0, 51117.0: 2167.0, 51119.0: 12.0, 51121.0: 173.0, 51125.0: 0.0, 51127.0: 106.0, 51131.0: 1969.0, 51133.0: 89.0, 51135.0: 169.0, 51137.0: 155.0, 51139.0: 1886.0, 51141.0: 58.0, 51143.0: 124.0, 51145.0: 109.0, 51147.0: 363.0, 51149.0: 59.0, 51153.0: 10922.0, 51155.0: 96.0, 51157.0: 26.0, 51159.0: 388.0, 51161.0: 435.0, 51163.0: 0.0, 51165.0: 768.0, 51167.0: 8.0, 51169.0: 195.0, 51171.0: 2245.0, 51173.0: 48.0, 51175.0: 428.0, 51177.0: 1650.0, 51179.0: 468.0, 51181.0: 106.0, 51183.0: 307.0, 51185.0: 0.0, 51187.0: 392.0, 51191.0: 380.0, 51193.0: 101.0, 51195.0: 208.0, 51197.0: 120.0, 51199.0: 279.0, 51510.0: 4480.0, 51520.0: 0.0, 51530.0: 0.0, 51540.0: 418.0, 51550.0: 1639.0, 51570.0: 1397.0, 51580.0: 0.0, 51590.0: 190.0, 51595.0: 785.0, 51600.0: 522.0, 51610.0: 603.0, 51620.0: 204.0, 51630.0: 21.0, 51640.0: 728.0, 51650.0: 381.0, 51660.0: 2278.0, 51670.0: 191.0, 51678.0: 0.0, 51680.0: 105.0, 51683.0: 1173.0, 51685.0: 482.0, 51690.0: 80.0, 51700.0: 1071.0, 51710.0: 954.0, 51720.0: 0.0, 51730.0: 423.0, 51735.0: 0.0, 51740.0: 1372.0, 51750.0: 0.0, 51760.0: 2687.0, 51770.0: 755.0, 51775.0: 213.0, 51790.0: 0.0, 51800.0: 3085.0, 51810.0: 2621.0, 51820.0: 25.0, 51830.0: 465.0, 51840.0: 214.0, 53001.0: 13.0, 53003.0: 198.0, 53005.0: 7842.0, 53007.0: 846.0, 53009.0: 0.0, 53011.0: 3164.0, 53013.0: 0.0, 53015.0: 48.0, 53017.0: 317.0, 53019.0: 0.0, 53021.0: 2633.0, 53023.0: 0.0, 53025.0: 472.0, 53027.0: 28.0, 53029.0: 1274.0, 53031.0: 0.0, 53033.0: 65225.0, 53035.0: 244.0, 53037.0: 110.0, 53039.0: 340.0, 53041.0: 334.0, 53043.0: 0.0, 53045.0: 97.0, 53047.0: 222.0, 53049.0: 85.0, 53051.0: 0.0, 53053.0: 9276.0, 53055.0: 0.0, 53057.0: 1674.0, 53059.0: 11.0, 53061.0: 16923.0, 53063.0: 3910.0, 53065.0: 110.0, 53067.0: 443.0, 53069.0: 0.0, 53071.0: 227.0, 53073.0: 4265.0, 53075.0: 0.0, 53077.0: 12787.0, 54001.0: 100.0, 54003.0: 748.0, 54005.0: 0.0, 54007.0: 0.0, 54009.0: 5.0, 54011.0: 26.0, 54013.0: 0.0, 54015.0: 39.0, 54017.0: 0.0, 54019.0: 302.0, 54021.0: 0.0, 54023.0: 0.0, 54025.0: 90.0, 54027.0: 104.0, 54029.0: 0.0, 54031.0: 0.0, 54033.0: 117.0, 54035.0: 1751.0, 54037.0: 266.0, 54039.0: 1689.0, 54041.0: 110.0, 54043.0: 0.0, 54045.0: 115.0, 54047.0: 0.0, 54049.0: 234.0, 54051.0: 0.0, 54053.0: 9.0, 54055.0: 11.0, 54057.0: 164.0, 54059.0: 158.0, 54061.0: 546.0, 54063.0: 0.0, 54065.0: 0.0, 54067.0: 82.0, 54069.0: 152.0, 54071.0: 57.0, 54073.0: 0.0, 54075.0: 0.0, 54077.0: 135.0, 54079.0: 3.0, 54081.0: 1.0, 54083.0: 0.0, 54085.0: 0.0, 54087.0: 58.0, 54089.0: 0.0, 54091.0: 0.0, 54093.0: 0.0, 54095.0: 0.0, 54097.0: 0.0, 54099.0: 875.0, 54101.0: 0.0, 54103.0: 0.0, 54105.0: 0.0, 54107.0: 230.0, 54109.0: 5.0, 55001.0: 156.0, 55003.0: 0.0, 55005.0: 48.0, 55007.0: 105.0, 55009.0: 3307.0, 55011.0: 175.0, 55013.0: 79.0, 55015.0: 135.0, 55017.0: 0.0, 55019.0: 507.0, 55021.0: 117.0, 55023.0: 0.0, 55025.0: 3157.0, 55027.0: 334.0, 55029.0: 294.0, 55031.0: 0.0, 55033.0: 0.0, 55035.0: 63.0, 55037.0: 0.0, 55039.0: 563.0, 55041.0: 181.0, 55043.0: 1125.0, 55045.0: 48.0, 55047.0: 0.0, 55049.0: 0.0, 55051.0: 128.0, 55053.0: 110.0, 55055.0: 293.0, 55057.0: 111.0, 55059.0: 3273.0, 55061.0: 113.0, 55063.0: 14.0, 55065.0: 0.0, 55067.0: 24.0, 55069.0: 0.0, 55071.0: 97.0, 55073.0: 149.0, 55075.0: 243.0, 55077.0: 105.0, 55078.0: 0.0, 55079.0: 34036.0, 55081.0: 95.0, 55083.0: 0.0, 55085.0: 0.0, 55087.0: 740.0, 55089.0: 1567.0, 55091.0: 0.0, 55093.0: 0.0, 55095.0: 98.0, 55097.0: 0.0, 55099.0: 0.0, 55101.0: 4515.0, 55103.0: 351.0, 55105.0: 1927.0, 55107.0: 25.0, 55109.0: 64.0, 55111.0: 360.0, 55113.0: 0.0, 55115.0: 0.0, 55117.0: 381.0, 55119.0: 0.0, 55121.0: 14.0, 55123.0: 0.0, 55125.0: 0.0, 55127.0: 1563.0, 55129.0: 0.0, 55131.0: 1191.0, 55133.0: 3366.0, 55135.0: 556.0, 55137.0: 0.0, 55139.0: 786.0, 55141.0: 70.0, 56001.0: 0.0, 56003.0: 0.0, 56005.0: 11.0, 56007.0: 75.0, 56009.0: 0.0, 56011.0: 0.0, 56013.0: 749.0, 56015.0: 0.0, 56017.0: 0.0, 56019.0: 110.0, 56021.0: 208.0, 56023.0: 0.0, 56025.0: 65.0, 56027.0: 0.0, 56029.0: 0.0, 56031.0: 0.0, 56033.0: 0.0, 56035.0: 0.0, 56037.0: 34.0, 56039.0: 100.0, 56041.0: 4.0, 56043.0: 291.0, 56045.0: 0.0, 69110.0: 36.0, 69120.0: 0.0, 72001.0: 0.0, 72003.0: 0.0, 72005.0: 0.0, 72007.0: 0.0, 72009.0: 0.0, 72011.0: 0.0, 72013.0: 0.0, 72015.0: 0.0, 72017.0: 0.0, 72019.0: 0.0, 72021.0: 0.0, 72023.0: 0.0, 72025.0: 0.0, 72027.0: 0.0, 72029.0: 0.0, 72031.0: 0.0, 72033.0: 0.0, 72035.0: 0.0, 72037.0: 0.0, 72039.0: 0.0, 72041.0: 0.0, 72043.0: 0.0, 72045.0: 0.0, 72047.0: 0.0, 72049.0: 0.0, 72051.0: 0.0, 72053.0: 0.0, 72054.0: 0.0, 72055.0: 0.0, 72057.0: 0.0, 72059.0: 0.0, 72061.0: 0.0, 72063.0: 0.0, 72065.0: 0.0, 72067.0: 0.0, 72069.0: 0.0, 72071.0: 0.0, 72073.0: 0.0, 72075.0: 0.0, 72077.0: 0.0, 72079.0: 0.0, 72081.0: 0.0, 72083.0: 0.0, 72085.0: 0.0, 72087.0: 0.0, 72089.0: 0.0, 72091.0: 0.0, 72093.0: 0.0, 72095.0: 0.0, 72097.0: 0.0, 72099.0: 0.0, 72101.0: 0.0, 72103.0: 0.0, 72105.0: 0.0, 72107.0: 0.0, 72109.0: 0.0, 72111.0: 0.0, 72113.0: 0.0, 72115.0: 0.0, 72117.0: 0.0, 72119.0: 0.0, 72121.0: 0.0, 72123.0: 0.0, 72125.0: 0.0, 72127.0: 0.0, 72129.0: 0.0, 72131.0: 0.0, 72133.0: 0.0, 72135.0: 0.0, 72137.0: 0.0, 72139.0: 0.0, 72141.0: 0.0, 72143.0: 0.0, 72145.0: 0.0, 72147.0: 0.0, 72149.0: 0.0, 72151.0: 0.0, 72153.0: 0.0, 78010.0: 36.0, 78020.0: 0.0, 78030.0: 30.0, '36005': 0.0, '36047': 0.0, '36061': 0.0, '36081': 0.0, '36085': 0.0}\n"
     ]
    }
   ],
   "source": [
    "three_month_lag_cumulative_death =  covid_last14_stats_montly[(covid_last14_stats_montly['month'] == m_now - 3) & (covid_last14_stats_montly['year'] == y_now)]\n",
    "\n",
    "\n",
    "# Create a dictionary for the 3 last month COVID deaths in each county\n",
    "three_month_lag_death = dict(zip(three_month_lag_cumulative_death.fips, three_month_lag_cumulative_death.cumulative_death))\n",
    "\n",
    "three_month_lag_cumulative_death.head(5)\n",
    "\n",
    "print (three_month_lag_death)"
   ]
  },
  {
   "cell_type": "code",
   "execution_count": 164,
   "metadata": {},
   "outputs": [],
   "source": [
    "\n",
    "# Create a dictionary for the states of the given the county FIPS\n",
    "county_of_states = dict(zip(svi_county.FIPS, svi_county.STATE))\n",
    "\n",
    "# Create a dictionary for the name of the given the county FIPS\n",
    "county_name = dict(zip(svi_county.FIPS, svi_county.COUNTY))\n",
    "\n",
    "# Create the list for county FIPS, we consider counties as analogy to the center for community health workers\n",
    "location = svi_county.FIPS.tolist() #[k for k in SVI_county] #[9001, 9003, 9005, 9007, 9009, 9011, 9013, 9015]#[k for k in SVI_county]\n",
    "\n",
    "\n"
   ]
  },
  {
   "cell_type": "code",
   "execution_count": null,
   "metadata": {},
   "outputs": [],
   "source": []
  },
  {
   "cell_type": "code",
   "execution_count": 165,
   "metadata": {},
   "outputs": [],
   "source": [
    "# Create a dictionary for the county and covid cases\n",
    "covid_cases_county_ny_times = dict(zip(covid_last14_stats.fips, covid_last14_stats.total_cases))\n",
    "COVID_14days = {}\n",
    "\n",
    "for j in location:\n",
    "    if j in covid_cases_county_ny_times:\n",
    "        COVID_14days[j] = covid_cases_county_ny_times[j]   \n",
    "    else:\n",
    "        COVID_14days[j] = 0\n",
    "\n",
    "#print (three_month_lag_death)\n",
    "#print (two_month_lag_covid_death)\n",
    "#print (one_month_lag_covid_death)\n",
    "for j in location:\n",
    "    if j not in three_month_lag_death:        \n",
    "        three_month_lag_death[j] = 0\n",
    "        \n",
    "    if j not in two_month_lag_death:        \n",
    "        two_month_lag_death[j] = 0\n",
    "        \n",
    "    if j not in one_month_lag_death:        \n",
    "        one_month_lag_death[j] = 0\n",
    "        \n",
    "    if j not in County_covid_death:\n",
    "        County_covid_death[j] = 0"
   ]
  },
  {
   "cell_type": "code",
   "execution_count": 166,
   "metadata": {},
   "outputs": [],
   "source": [
    "#Parameters\n",
    "pro_c_s = [(i,county_of_states[i]) for i in location ]\n",
    "cartesian_pro_county_state = gp.tuplelist(pro_c_s)"
   ]
  },
  {
   "cell_type": "code",
   "execution_count": 167,
   "metadata": {},
   "outputs": [],
   "source": [
    "df = covid_last14_stats\n",
    "df['fips'] = df['fips'].astype(int)"
   ]
  },
  {
   "cell_type": "code",
   "execution_count": 168,
   "metadata": {},
   "outputs": [],
   "source": [
    "###############################################################################################\n",
    "######################## END calculating different types of vulnerabilities ###################"
   ]
  },
  {
   "cell_type": "markdown",
   "metadata": {},
   "source": [
    "Since we allocate CHW proportional to the county values of certain vulnaribilites within state, we need a few function to help us with the calculations. \n",
    "\n"
   ]
  },
  {
   "cell_type": "code",
   "execution_count": 169,
   "metadata": {},
   "outputs": [],
   "source": [
    "# This function return the value for the state for the given dictionary\n",
    "\n",
    "# More specifically sum upt the values for the counties of each state\n",
    "\n",
    "def total_state(dict_1):\n",
    "    state_dict = {}\n",
    "    for s in State:\n",
    "        state_dict [s] = sum(dict_1[j] for (j,s) in cartesian_pro_county_state.select('*', s))  \n",
    "    return state_dict\n",
    "\n"
   ]
  },
  {
   "cell_type": "code",
   "execution_count": 170,
   "metadata": {},
   "outputs": [],
   "source": [
    "# Calculte the population per state by summing up the population in each county in the state\n",
    "State_pop = total_state(population_county)"
   ]
  },
  {
   "cell_type": "code",
   "execution_count": 171,
   "metadata": {},
   "outputs": [],
   "source": [
    "\n",
    "\n",
    "# This function returns the ratio of the dict value for county and state of the county\n",
    "def Proportional(county_level, state_level):\n",
    "    \n",
    "    prop = {}\n",
    "       \n",
    "    for (j,s) in cartesian_pro_county_state:\n",
    "        if state_level[s] >= 1e-6:\n",
    "            prop[j] = (county_level[j]/state_level[s])    \n",
    "        else:\n",
    "            prop[j] = 0\n",
    "                \n",
    "    return prop"
   ]
  },
  {
   "cell_type": "code",
   "execution_count": 172,
   "metadata": {},
   "outputs": [],
   "source": [
    "# Create dicts for the variables of SVI\n",
    "E_POV = dict(zip(svi_county.FIPS, svi_county.EP_POV))\n",
    "E_UNEMP = dict(zip(svi_county.FIPS, svi_county.EP_UNEMP))\n",
    "E_PCI = dict(zip(svi_county.FIPS, svi_county.EP_PCI))\n",
    "E_NOHSDP = dict(zip(svi_county.FIPS, svi_county.EP_NOHSDP))\n",
    "E_AGE65 = dict(zip(svi_county.FIPS, svi_county.EP_AGE65))\n",
    "E_AGE17 = dict(zip(svi_county.FIPS, svi_county.EP_AGE17))\n",
    "E_DISABL = dict(zip(svi_county.FIPS, svi_county.EP_DISABL))\n",
    "E_SNGPNT = dict(zip(svi_county.FIPS, svi_county.EP_SNGPNT))\n",
    "E_MINRTY = dict(zip(svi_county.FIPS, svi_county.EP_MINRTY))\n",
    "E_LIMENG = dict(zip(svi_county.FIPS, svi_county.EP_LIMENG))\n",
    "E_MUNIT = dict(zip(svi_county.FIPS, svi_county.EP_MUNIT))\n",
    "E_MOBILE = dict(zip(svi_county.FIPS, svi_county.EP_MOBILE))\n",
    "E_CROWD = dict(zip(svi_county.FIPS, svi_county.EP_CROWD))\n",
    "E_NOVEH = dict(zip(svi_county.FIPS, svi_county.EP_NOVEH))\n",
    "E_GROUPQ = dict(zip(svi_county.FIPS, svi_county.EP_GROUPQ))\n",
    "\n",
    "\n",
    "# Calculate the state value for the SVI variables\n",
    "E_POV_State = total_state(E_POV)\n",
    "E_UNEMP_State = total_state(E_UNEMP) \n",
    "E_PCI_State = total_state(E_PCI)\n",
    "E_NOHSDP_State = total_state(E_NOHSDP) \n",
    "E_AGE65_State = total_state(E_AGE65)\n",
    "E_AGE17_State = total_state(E_AGE17)\n",
    "E_DISABL_State = total_state(E_DISABL)\n",
    "E_SNGPNT_State = total_state(E_SNGPNT)\n",
    "E_MINRTY_State = total_state(E_MINRTY)\n",
    "E_LIMENG_State = total_state(E_LIMENG)\n",
    "E_MUNIT_State = total_state(E_MUNIT)\n",
    "E_MOBILE_State = total_state(E_MOBILE)\n",
    "E_CROWD_State = total_state(E_CROWD)\n",
    "E_NOVEH_State = total_state(E_NOVEH)\n",
    "E_GROUPQ_State = total_state(E_GROUPQ)\n",
    "\n",
    "\n",
    "# Calculate the proportinal values for the SVI variables\n",
    "E_POV_Prop = Proportional(E_POV, E_POV_State )\n",
    "E_UNEMP_Prop = Proportional(E_UNEMP, E_UNEMP_State ) \n",
    "E_PCI_Prop = Proportional(E_PCI, E_PCI_State )\n",
    "E_NOHSDP_Prop = Proportional(E_NOHSDP, E_NOHSDP_State ) \n",
    "E_AGE65_Prop = Proportional(E_AGE65, E_AGE65_State )\n",
    "E_AGE17_Prop = Proportional(E_AGE17, E_AGE17_State )\n",
    "E_DISABL_Prop = Proportional(E_DISABL, E_DISABL_State )\n",
    "E_SNGPNT_Prop = Proportional(E_SNGPNT, E_SNGPNT_State )\n",
    "E_MINRTY_Prop = Proportional(E_MINRTY, E_MINRTY_State )\n",
    "E_LIMENG_Prop = Proportional(E_LIMENG, E_LIMENG_State )\n",
    "E_MUNIT_Prop = Proportional(E_MUNIT, E_MUNIT_State )\n",
    "E_MOBILE_Prop = Proportional(E_MOBILE, E_MOBILE_State )\n",
    "E_CROWD_Prop = Proportional(E_CROWD, E_CROWD_State )\n",
    "E_NOVEH_Prop = Proportional(E_NOVEH, E_NOVEH_State )\n",
    "E_GROUPQ_Prop = Proportional(E_GROUPQ, E_GROUPQ_State )\n",
    "\n"
   ]
  },
  {
   "cell_type": "markdown",
   "metadata": {},
   "source": [
    "# SVI calculation \n",
    "\n",
    "We calculate the ratio of county value to state value by population for each SVI variables (we use EP-estimate percentage- values in the CDC data set), then we take the average of all 15 SVI variables. \n",
    "\n",
    "Let SVI variable set be K, where  \n",
    "\n",
    "K = { Below Poverty, Unemployed, Income, No High School Diploma, Aged 65 or Older, Aged 17 or Younger, Civilian with a Disability, Single-Parent Households, Minority, Speaks English “Less than Well”, Multi-Unit Structures, Mobile Homes, Crowding, No Vehicle, Group Quarters }\n",
    "\n",
    "We will use these variables in a county base and state base. While County base values are exactly same as the estimated values for these variables in the CDC website, to calculate the state base, we simply sum the county values for all of the counties in each state for each variable. Then we use the following formula to calculate the SVI value for each county.\n",
    "\n",
    "Let $S$ is the set of states and $j$ is a county in the state $s$, where $s \\in S$, $c^k_j$ SVI variable $k \\in K$ value for county j, and $c_s$ SVI variable value for state s.\n",
    "\n",
    "$SVI_j = \\frac{1}{15}\\sum_{k \\in K} \\frac{c^k_j}{c^k_s}$\n"
   ]
  },
  {
   "cell_type": "code",
   "execution_count": 173,
   "metadata": {},
   "outputs": [],
   "source": [
    "\n",
    "from collections import Counter\n",
    "# Sum all SVI variable values for each county\n",
    "SVI_county_sum = dict(Counter(E_POV_Prop) + Counter(E_UNEMP_Prop) + Counter(E_PCI_Prop) + Counter(E_NOHSDP_Prop) + Counter(E_AGE65_Prop) + Counter(E_AGE17_Prop) + Counter(E_DISABL_Prop) + Counter(E_SNGPNT_Prop) + Counter(E_MINRTY_Prop) + Counter(E_LIMENG_Prop) + Counter(E_MUNIT_Prop) + Counter(E_MOBILE_Prop) + Counter(E_CROWD_Prop) + Counter(E_NOVEH_Prop) + Counter(E_GROUPQ_Prop))\n",
    "\n",
    "# Divide the sum of all SVI variable values\n",
    "SVI_county = {j: SVI_county_sum[j]/15 for j in SVI_county_sum }\n"
   ]
  },
  {
   "cell_type": "code",
   "execution_count": 174,
   "metadata": {},
   "outputs": [
    {
     "name": "stdout",
     "output_type": "stream",
     "text": [
      "Med 50873 Pop 110924 Med_capita 45862.93317947423\n"
     ]
    }
   ],
   "source": [
    "print ('Med', Medicaid_demand[4017], 'Pop', population_county[4017], 'Med_capita', 100000*(Medicaid_demand[4017]/population_county[4017]))"
   ]
  },
  {
   "cell_type": "code",
   "execution_count": 175,
   "metadata": {},
   "outputs": [],
   "source": [
    "#Further we create additional vulnerability values by considering SVI, YPLL, Unemployment, COVID, COVID_capita, COVID_death and COVID_death capita and the number of Medicaid enrolles in each county together\n",
    "\n",
    "Covid_capita = {j: 100000*(COVID_14days[j]/population_county[j]) for j in location}\n",
    "\n",
    "Covid_death_capita = {j: 100000*(County_covid_death[j]/population_county[j]) for j in location}\n",
    "\n",
    "Medicaid_capita = {j: 100000*(Medicaid_demand[j]/population_county[j]) for j in location}\n",
    "\n",
    "Unemployment_capita = dict(zip(df_unemp.FIPS, df_unemp.Rate))\n",
    "\n",
    "Three_month_lag_covid_death_capita = {j: 100000*(three_month_lag_death[j]/population_county[j]) for j in location}\n",
    "\n",
    "Two_month_lag_covid_death_capita = {j: 100000*(two_month_lag_death[j]/population_county[j]) for j in location}\n",
    "\n",
    "One_month_lag_covid_death_capita = {j: 100000*(one_month_lag_death[j]/population_county[j]) for j in location}"
   ]
  },
  {
   "cell_type": "markdown",
   "metadata": {},
   "source": [
    "# Proportional Allocation\n",
    "\n",
    "We consider allocating 1 million CHW over the states proportional to Medicaid enrollment in each state. Further, we allocate CHW to counties in each state proportional to different county vulnerability criterias as follow.\n",
    "\n",
    "- MEDICAID\n",
    "- SVI\n",
    "- YPLL\n",
    "- UNEMPLOYMENT\n",
    "- LAST 14 DAYS COVID CASES\n",
    "- LAST 14 DAYS COVID CASES / POP\n",
    "- COVID DEATHS / POP\n",
    "\n",
    "To calculate the total number of allocated CHW to per county according to these vulnerability criterias, we define the following function called \"Proportional_allocation\", in which we multiply the CHW allocated to each state with the ratio of the chosen vulnerability criteria of the county to the chosen vulnerability criteria of the state, the function return a dictionary with the counties as keys and the number of CHW allocated to each county for the chosen vulnerability criteria as values. "
   ]
  },
  {
   "cell_type": "code",
   "execution_count": 176,
   "metadata": {},
   "outputs": [],
   "source": [
    "def Proportional_allocation(county_level, state_level, state_budget):\n",
    "    prop_allocate = {}\n",
    "       \n",
    "    for (j,s) in cartesian_pro_county_state:\n",
    "        if state_level[s] >= 1e-6:\n",
    "            prop_allocate[j,s] = (county_level[j]/state_level[s])*state_budget[s]\n",
    "        \n",
    "        else:\n",
    "            prop_allocate[j,s] = 0\n",
    "            \n",
    "    \n",
    "    return prop_allocate"
   ]
  },
  {
   "cell_type": "code",
   "execution_count": 177,
   "metadata": {},
   "outputs": [],
   "source": [
    "# Dictionaries for the different vulnerability criteria values for states\n",
    "\n",
    "# Dictionary for total Medicaid patient numbers for each state\n",
    "Medicaid_demand_state = total_state(Medicaid_demand) \n",
    "\n",
    "# Dictionary for total positive COVID cases for last 14 days in each state\n",
    "Covid_state = total_state(COVID_14days) \n",
    "\n",
    "# Dictionary for total SVI values for each state\n",
    "SVI_state = total_state(SVI_county) \n",
    "\n",
    "# Dictionary for total YPLL values for each state\n",
    "YPLL_state = total_state(YPLL) \n",
    "\n",
    "# Dictionary for total Unemployment numbers for each state\n",
    "Unemployment_state = total_state(Unemployment)  "
   ]
  },
  {
   "cell_type": "code",
   "execution_count": 178,
   "metadata": {},
   "outputs": [],
   "source": [
    "# Dictionary for the total Covid per capita for each state\n",
    "Total_covid_cap = total_state(Covid_capita) \n",
    "\n",
    "\n",
    "# Dictionary for the total Covid death per capita for each state\n",
    "Total_covid_death_cap = total_state(Covid_death_capita) \n",
    "\n",
    "\n",
    "# Dictionary for the total Medicaid per capita for each state\n",
    "Total_medicaid_cap = total_state(Medicaid_capita)\n",
    "\n",
    "\n",
    "# Dictionary for the total Unemployment per capita for each state\n",
    "Total_unemployment_cap = total_state(Unemployment_capita)\n",
    "\n"
   ]
  },
  {
   "cell_type": "markdown",
   "metadata": {},
   "source": [
    "# 1 million CHW allocation to states\n",
    "\n",
    "We allocate 1 million CHWs to states proportional to total Medicaid enrolles in each state.\n",
    "\n",
    "Let's $FedCHW$ represents the number of CHW will be allocated within states by the federal government, which is 1 million in our project. $TotMed$ represents the total Medicaid enrollee numbers over the US, $Med_s$ is the total Medicaid enrollee numbers in state $s \\in S$, and $CHW_s$ is the total number of CHW allocated to state $ s\\in S$. \n",
    "\n",
    "$CHW_s = FedCHW*\\frac{Med_s}{TotMed}$\n",
    "\n"
   ]
  },
  {
   "cell_type": "code",
   "execution_count": 179,
   "metadata": {},
   "outputs": [],
   "source": [
    "# We consider allocation of 1 million CHW all over the US\n",
    "Federal_budget_CHW = 1000000\n",
    "\n",
    "# First, we calculate the Total Medicaid enrolles all over the US\n",
    "Total_federal_need = sum(Medicaid_demand_state[s] for s in State)\n",
    "\n",
    "# Allocate the 1 million CHWs proportional to Medicaid enrolles in each state\n",
    "Medicaid_budget_state = {s: (Medicaid_demand_state[s]/Total_federal_need)*Federal_budget_CHW  for s in State}"
   ]
  },
  {
   "cell_type": "markdown",
   "metadata": {},
   "source": [
    "# Proportional allocation for different vulnerability values\n",
    "\n",
    "Let V = {Medicaid, SVI, YPLL, Unemployment, COVID, COVID_capita, COVID_death and COVID_death capita, SVI and Medicaid, YPLL and Medicaid, Unemployment and Medicaid, COVID and Medicaid, COVID_capita and Medicaid, COVID_death and Medicaid and COVID_death capita and Medicaid}. We assume $v_j$ represent the vulnerability value for county $j \\in J$, while $v_s$ represent the sum of the vulnerability values for each county in the state of county j.\n",
    "\n",
    "$Prop_{v_j} = \\frac{v_j}{v_s}*CHW_s$\n",
    "\n"
   ]
  },
  {
   "cell_type": "code",
   "execution_count": 180,
   "metadata": {},
   "outputs": [],
   "source": [
    "# Calling proportional allocation function for different vulnerability criterias\n",
    "\n",
    "# Proportional allocation according to cumulative Covid death in per capita in each county\n",
    "Proportional_to_covid_death_cap = Proportional_allocation(Covid_death_capita, Total_covid_death_cap,Medicaid_budget_state)\n",
    "\n",
    "# Propportional allocation according to Medicaid enrollee number in each county\n",
    "Proportional_to_medicaid = Proportional_allocation(Medicaid_demand, Medicaid_demand_state,Medicaid_budget_state )\n",
    "\n",
    "# Proportional allocation according to Medicaid enrolles per capita in each county\n",
    "Proportional_to_medicaid_cap = Proportional_allocation(Medicaid_capita, Total_medicaid_cap, Medicaid_budget_state )\n",
    "\n",
    "# Proportional allocation according to last 14 days positive COVID cases in each county\n",
    "Proportional_to_covid = Proportional_allocation(COVID_14days, Covid_state, Medicaid_budget_state)\n",
    "\n",
    "# Proportional allocation according to SVI score in each county\n",
    "Proportional_to_SVI = Proportional_allocation(SVI_county, SVI_state, Medicaid_budget_state)\n",
    "\n",
    "# Proportional allocation according to YPLL in each county\n",
    "Proportional_to_YPLL = Proportional_allocation(YPLL, YPLL_state, Medicaid_budget_state)\n",
    "\n",
    "# Proportional allocation according to Unemployment  in each county\n",
    "Proportional_to_unemployment = Proportional_allocation(Unemployment, Unemployment_state, Medicaid_budget_state)\n",
    "\n",
    "# Proportional allocation according to Medicaid enrolles per capita in each county\n",
    "Proportional_to_unemployment_cap = Proportional_allocation(Unemployment_capita, Total_unemployment_cap, Medicaid_budget_state )\n",
    "\n",
    "# Proportional allocation according to last 14 days positive COVID cases per capita in each county\n",
    "Proportional_to_covid_capita = Proportional_allocation(Covid_capita, Total_covid_cap, Medicaid_budget_state)\n",
    "\n"
   ]
  },
  {
   "cell_type": "markdown",
   "metadata": {},
   "source": [
    "# Normalize values for comparison\n",
    "To be able compare the different vulnerability values for each county, we normalize all vulnerability values as follows. \n",
    "\n",
    "Let $m_{v_s} = \\min \\{v_j, \\text{ for county j in state s }\\}$  and \n",
    "$M_{v_s} = \\max \\{v_j, \\text{ for county j in state s }\\}$.\n",
    "\n",
    "We calculate the normalize value for each vulnerability for each county by substracting the min vulnerability in the state of the county and dividing that by the differences between max and min value of the vulnerability values in the state. Mathematical formulation for the normalization is as follows.\n",
    "\n",
    "$N_{v_j} = \\frac{v_j - m_{v_s}}{M_{v_s} - m_{v_s}}$ \n",
    "\n",
    "for each $v \\in V$, where V = {Medicaid, SVI, YPLL, Unemployment, COVID, COVID_capita, COVID_death and COVID_death capita, SVI and Medicaid, YPLL and Medicaid, Unemployment and Medicaid, COVID and Medicaid, COVID_capita and Medicaid, COVID_death and Medicaid and COVID_death capita and Medicaid}, j is a county in each state $s \\in S$.\n"
   ]
  },
  {
   "cell_type": "code",
   "execution_count": 181,
   "metadata": {},
   "outputs": [],
   "source": [
    "#Normalize function to normalize the vulnerability values to be able to compare them\n",
    "\n",
    "def normalize(dict_1):\n",
    "    \n",
    "    result = {}\n",
    "    min_data = {s: min(dict_1[j] for j in location if (j,s) in cartesian_pro_county_state) for s in State }\n",
    "    max_data = {s: max(dict_1[j] for j in location if (j,s) in cartesian_pro_county_state) for s in State }\n",
    "    \n",
    "    for (j,s) in cartesian_pro_county_state:\n",
    "        \n",
    "        if (max_data[s] - min_data[s]) != 0 :\n",
    "    \n",
    "            result[j] = (dict_1[j] - min_data[s])/(max_data[s] - min_data[s])\n",
    "        \n",
    "        else:\n",
    "            result[j] = 1\n",
    "    \n",
    "    return result "
   ]
  },
  {
   "cell_type": "markdown",
   "metadata": {},
   "source": [
    "# Percentile Rank\n",
    "\n",
    "<a href=\"https://docs.scipy.org/doc/scipy/reference/generated/scipy.stats.percentileofscore.html\"> The function scipy.stats.percentileofscore (a, score, kind='rank')   </a>\n",
    "computes the percentile rank of a score relative to a list of scores. \n",
    "\"rank\": Average percentage ranking of score. In case of multiple matches, average the percentage rankings of all matching scores."
   ]
  },
  {
   "cell_type": "code",
   "execution_count": 182,
   "metadata": {},
   "outputs": [],
   "source": [
    "from scipy import stats\n",
    "\n",
    "# Calculate percentile ranks\n",
    "\n",
    "def percentile_ranks(data):\n",
    "    x = {s: [] for s in State}\n",
    "\n",
    "    for (j,s) in cartesian_pro_county_state:\n",
    "         \n",
    "        x[s].append(data[j])\n",
    "    \n",
    "    \n",
    "    \n",
    "    percentile_ranks = {i: stats.percentileofscore(x[s], data[i], 'rank') for (i,s) in cartesian_pro_county_state}\n",
    "\n",
    "    return percentile_ranks"
   ]
  },
  {
   "cell_type": "code",
   "execution_count": null,
   "metadata": {},
   "outputs": [],
   "source": []
  },
  {
   "cell_type": "code",
   "execution_count": 183,
   "metadata": {},
   "outputs": [],
   "source": [
    "# Write timestamp \n",
    "\n",
    "time_stamp = time.strftime('%m-%d-%Y %H:%M:%S')\n",
    "with open('Output/time_stamp.csv','w') as f:\n",
    "    w = csv.writer(f)\n",
    "    now = time.strftime('%m/%d/%Y %H:%M:%S')\n",
    "    w.writerow(['time',now])\n",
    "    "
   ]
  },
  {
   "cell_type": "code",
   "execution_count": 184,
   "metadata": {},
   "outputs": [],
   "source": [
    "# Write file allocation with each strategies for each county \n",
    "\n",
    "Strategies = [\"Medicaid_demand\", \"Medicaid_capita\", \"Covid\", \"SVI\"\n",
    "              , \"YPLL\",\"Unemployment\", \"Unemployment_capita\", \"Covid_capita\",  \"Covid_death_capita\" ]\n",
    "\n",
    "fieldnames = []  \n",
    "fieldnames.append('County_FIPS')\n",
    "\n",
    "\n",
    "SVI_values = {i:SVI_county[i] for i in location}\n",
    "s_count = 1\n",
    "for s in Strategies:   \n",
    "    fieldnames.append('Proportional_allocation_to_' + s)\n",
    "    fieldnames.append(s)\n",
    "    fieldnames.append('Percentile_ranks_' + s)\n",
    "\n",
    "    \n",
    "        \n",
    "\n",
    "writefile = 'Output/County_level_proportional_allocation_for_all_policies.csv'\n",
    "with open( writefile, 'w' ) as f:\n",
    "    writer = csv.writer(f)                \n",
    "    writer.writerow(fieldnames)\n",
    "    for row in zip(location\n",
    "                   , Proportional_to_medicaid.values(),         Medicaid_demand.values(),      percentile_ranks(Medicaid_demand).values()\n",
    "                   , Proportional_to_medicaid_cap.values(),     Medicaid_capita.values(),      percentile_ranks(Medicaid_capita).values()\n",
    "                   , Proportional_to_covid.values(),            COVID_14days.values(),         percentile_ranks(COVID_14days).values()\n",
    "                   , Proportional_to_SVI.values(),              SVI_county.values(),           percentile_ranks(SVI_county).values()\n",
    "                   , Proportional_to_YPLL.values(),             YPLL.values(),                 percentile_ranks(YPLL).values()\n",
    "                   , Proportional_to_unemployment.values(),     Unemployment.values(),         percentile_ranks(Unemployment).values()\n",
    "                   , Proportional_to_unemployment_cap.values(), Unemployment_capita.values(),  percentile_ranks(Unemployment_capita).values()\n",
    "                   , Proportional_to_covid_capita.values(),     Covid_capita.values(),         percentile_ranks(Covid_capita).values()\n",
    "                   , Proportional_to_covid_death_cap.values(),  Covid_death_capita.values(),   percentile_ranks(Covid_death_capita).values() ):                    \n",
    "       \n",
    "        writer.writerow(row)"
   ]
  },
  {
   "cell_type": "code",
   "execution_count": null,
   "metadata": {},
   "outputs": [],
   "source": []
  },
  {
   "cell_type": "code",
   "execution_count": null,
   "metadata": {},
   "outputs": [],
   "source": [
    "import seaborn as sns\n",
    "from scipy import stats\n",
    "import matplotlib.pyplot as plt\n",
    "\n",
    "#for s in State:\n",
    "    \n",
    "#data_1 = svi_county.groupby('STATE').get_group(s)\n",
    "data = svi_county[['EP_POV', 'EP_UNEMP', 'EP_PCI','EP_NOHSDP','EP_AGE65','EP_AGE17'\n",
    "                   , 'EP_DISABL', 'EP_SNGPNT','EP_MINRTY', 'EP_LIMENG','EP_MUNIT', 'EP_MOBILE'\n",
    "                   ,  'EP_CROWD', 'EP_NOVEH', 'EP_GROUPQ']]\n",
    "sns.pairplot(data, kind=\"reg\")\n",
    "plt.show()"
   ]
  },
  {
   "cell_type": "code",
   "execution_count": null,
   "metadata": {},
   "outputs": [],
   "source": [
    "\n",
    "\n",
    "\n",
    "#for s in State:\n",
    "    \n",
    " #   data_1 = svi_county.groupby('STATE').get_group(s)\n",
    "#    data = data_1[['E_POV', 'E_UNEMP', 'E_PCI','E_NOHSDP','E_AGE65','E_AGE17'\n",
    "#                   , 'E_DISABL', 'E_SNGPNT','E_MINRTY', 'E_LIMENG','E_MUNIT', 'E_MOBILE'\n",
    "#                   ,  'E_CROWD', 'E_NOVEH', 'E_GROUPQ']]\n",
    "    \n",
    "  \n",
    " #   corr = data.corr()\n",
    "\n",
    "\n",
    "  #  fig = plt.figure()\n",
    "  #  ax = fig.add_subplot(111)\n",
    "  #  cax = ax.matshow(corr,cmap='coolwarm', vmin=-1, vmax=1)\n",
    "  #  fig.colorbar(cax)\n",
    "  #  ticks = np.arange(0,len(data.columns),1)\n",
    "  #  ax.set_xticks(ticks)\n",
    "  #  plt.xticks(rotation=90)\n",
    "  #  plt.text(5.7, -5.5, s + ' Correlation of variables', horizontalalignment='center') \n",
    "  #  ax.set_yticks(ticks)\n",
    "  #  ax.set_xticklabels(data.columns)\n",
    "  #  ax.set_yticklabels(data.columns)\n",
    "\n",
    "   # plt.tight_layout()    \n",
    "   # plt.show()\n",
    "    #print (s)\n",
    "\n",
    "    # print ( corr , '\\n')"
   ]
  },
  {
   "cell_type": "code",
   "execution_count": null,
   "metadata": {},
   "outputs": [],
   "source": [
    "idx = pd.date_range(end='now', freq='M', periods = 3)\n",
    "three_months = list(idx.month_name())\n",
    "\n",
    "\n",
    "Minority_county = dict(zip(svi_county.FIPS, svi_county.RPL_THEME3))\n",
    "Strategies = [\"Medicaid\",  \"SVI\"\n",
    "              , \"YPLL\",\"Unemp\", \"Covid_last_14\"]\n",
    "\n",
    "fieldnames = []  \n",
    "fieldnames.append('County_FIPS')\n",
    "\n",
    "\n",
    "\n",
    "\n",
    "for s in Strategies:   \n",
    "    #fieldnames.append('Proportional_allocation_to_' + s)\n",
    "    fieldnames.append(s)\n",
    "    #fieldnames.append('Normalized_' + s)\n",
    "\n",
    "for m in three_months:\n",
    "    fieldnames.append('Cum_Covid_death_in_'+ m)\n",
    "#fieldnames.append(\"Minority\")    \n",
    "        \n",
    "County_state = {}\n",
    "Medicaid_demand_state = {}\n",
    "County_demand_state = {} \n",
    "SVI_county_state = {}\n",
    "YPLL_state = {}\n",
    "Unemployment_state = {}\n",
    "Covid_capita_state = {}\n",
    "Covid_death_capita_state = {}\n",
    "Three_month_lag_covid_death_capita_state = {}\n",
    "Two_month_lag_covid_death_capita_state = {}\n",
    "One_month_lag_covid_death_capita_state = {}\n",
    "#Minority_county_state = {}\n",
    "\n",
    "for s in State:\n",
    "              \n",
    "    County_state[s] = {j: j  for j in location if (j,s) in cartesian_pro_county_state }\n",
    "    \n",
    "    Medicaid_demand_state[s] =  {j: Medicaid_capita[j] for j in location if (j,s) in cartesian_pro_county_state } \n",
    "    \n",
    "    SVI_county_state [s] =  {j: SVI_county[j] for j in location if (j,s) in cartesian_pro_county_state } \n",
    "    \n",
    "    YPLL_state [s] = {j: YPLL[j] for j in location if (j,s) in cartesian_pro_county_state }\n",
    "    \n",
    "    Unemployment_state [s] =  {j:  Unemployment_capita[j] for j in location if (j,s) in cartesian_pro_county_state }\n",
    "    \n",
    "    Covid_capita_state [s] = {j: Covid_capita[j] for j in location if (j,s) in cartesian_pro_county_state } \n",
    "    \n",
    "    #Covid_death_capita_state [s] = {j: Covid_death_capita[j] for j in location if (j,s) in cartesian_pro_county_state }\n",
    "    \n",
    "    Three_month_lag_covid_death_capita_state [s] = {j: Three_month_lag_covid_death_capita[j] for j in location if (j,s) in cartesian_pro_county_state }\n",
    "    \n",
    "    Two_month_lag_covid_death_capita_state [s] = {j: Two_month_lag_covid_death_capita[j] for j in location if (j,s) in cartesian_pro_county_state }\n",
    "    \n",
    "    One_month_lag_covid_death_capita_state [s] = {j: One_month_lag_covid_death_capita[j] for j in location if (j,s) in cartesian_pro_county_state }\n",
    "    \n",
    "    #Minority_county_state [s] =  {j: Minority_county[j] for j in location if (j,s) in cartesian_pro_county_state }\n",
    "      \n",
    "                      #Medicaid_capita.values()\n",
    "                      #  COVID_14days.values()\n",
    "                      #     SVI_county.values()\n",
    "                      #        YPLL.values()\n",
    "\n",
    "                      #Unemployment_capita.values()\n",
    "                     #Covid_capita.values()      \n",
    "                    #Covid_death_capita.values()      \n",
    "\n",
    "for s in State:\n",
    "    writefile = 'Output/County_level_values_'+ s +'.csv'\n",
    "    with open( writefile, 'w' ) as f:\n",
    "        writer = csv.writer(f)                \n",
    "        writer.writerow(fieldnames)\n",
    "        for row in zip(County_state[s].values()\n",
    "                       , Medicaid_demand_state[s].values() \n",
    "                       , SVI_county_state[s].values()\n",
    "                       , YPLL_state[s].values()\n",
    "                       , Unemployment_state[s].values()\n",
    "                       , Covid_capita_state[s].values()\n",
    "                       #, Covid_death_capita_state[s].values()\n",
    "                       #, Minority_county_state[s].values()\n",
    "                       ,Three_month_lag_covid_death_capita_state[s].values()\n",
    "                       ,Two_month_lag_covid_death_capita_state[s].values()\n",
    "                       ,One_month_lag_covid_death_capita_state[s].values()\n",
    "                      ):                    \n",
    "\n",
    "            writer.writerow(row)"
   ]
  },
  {
   "cell_type": "code",
   "execution_count": null,
   "metadata": {
    "scrolled": false
   },
   "outputs": [],
   "source": [
    "from scipy import stats\n",
    "#for s in State:\n",
    "#    print (s)\n",
    "#    data = pd.read_csv('Output/County_level_values_'+ s +'.csv', index_col=0)\n",
    "#    sns_plot = sns.pairplot(data)\n",
    "#    plt.show()\n",
    "#    sns_plot.savefig('Output/Pairplot_' + s +'.png')"
   ]
  },
  {
   "cell_type": "markdown",
   "metadata": {},
   "source": [
    "from scipy import stats\n",
    "\n",
    "for s in State:\n",
    "    \n",
    "    data = pd.read_csv('Output/County_level_values_'+ s +'.csv', index_col=0)\n",
    "    corr = data.corr()\n",
    "    \n",
    "    \n",
    "    fig = plt.figure(figsize=(7,7))\n",
    "    ax = fig.add_subplot(111)\n",
    "    cax = ax.matshow(corr,cmap='coolwarm', vmin=-1, vmax=1)\n",
    "    fig.colorbar(cax)\n",
    "    ticks = np.arange(0,len(data.columns),1)\n",
    "    ax.set_xticks(ticks)\n",
    "    plt.xticks(rotation=90)\n",
    "    plt.text(2.7, -2.5, s + ' Correlation of variables', horizontalalignment='center') \n",
    "    ax.set_yticks(ticks)\n",
    "    ax.set_xticklabels(data.columns)\n",
    "    ax.set_yticklabels(data.columns)\n",
    "    \n",
    "    plt.tight_layout() \n",
    "    print (s)\n",
    "    \n",
    "    plt.show()\n",
    "    \n",
    "    fig.savefig('Output/Corr_plot_' + s +'.png')\n",
    "   \n",
    "    #print ( corr , '\\n')"
   ]
  },
  {
   "cell_type": "code",
   "execution_count": null,
   "metadata": {
    "scrolled": false
   },
   "outputs": [],
   "source": [
    "for s in State:\n",
    "    if s != \"DISTRICT OF COLUMBIA\":\n",
    "        print (s)\n",
    "    \n",
    "        data = pd.read_csv('Output/County_level_values_'+ s +'.csv', index_col=0)\n",
    "        sns.pairplot(data, kind=\"reg\")\n",
    "        plt.show()"
   ]
  },
  {
   "cell_type": "code",
   "execution_count": null,
   "metadata": {},
   "outputs": [],
   "source": [
    "count = 0\n",
    "Number_of_county_per_State = {}\n",
    "for s in State:\n",
    "    for j in location:\n",
    "        if (j,s) in cartesian_pro_county_state:\n",
    "            count += 1\n",
    "    Number_of_county_per_State[s] = count\n",
    "    count = 0\n",
    "#print (Number_of_county_per_State)\n",
    "\n",
    "sort_orders = sorted(Number_of_county_per_State.items(), key=lambda x: x[1], reverse=True)\n",
    "\n",
    "print (sort_orders)"
   ]
  },
  {
   "cell_type": "code",
   "execution_count": null,
   "metadata": {
    "scrolled": false
   },
   "outputs": [],
   "source": [
    "def corr_sig(df=None):\n",
    "    p_matrix = np.zeros(shape=(df.shape[1],df.shape[1]))\n",
    "    for col in df.columns:\n",
    "        for col2 in df.drop(col,axis=1).columns:\n",
    "            _ , p = stats.spearmanr(df[col],df[col2])\n",
    "            p_matrix[df.columns.to_list().index(col),df.columns.to_list().index(col2)] = p\n",
    "    return p_matrix\n",
    "\n",
    "\n",
    "\n",
    "\n",
    "for s in State:\n",
    "    \n",
    "    if s != \"DISTRICT OF COLUMBIA\":\n",
    "    \n",
    "        d = pd.read_csv('Output/County_level_values_'+ s +'.csv', index_col=0)\n",
    "        corr = d.corr()\n",
    "\n",
    "        # Compute the correlation matrix\n",
    "        corr = d.corr(method ='spearman')\n",
    "        p_values = corr_sig(d)\n",
    "        mask = np.invert(np.tril(p_values < 0.05))\n",
    "        \n",
    "        # print (p_values)\n",
    "        # Generate a mask for the upper triangle\n",
    "        #mask = np.triu(np.ones_like(corr, dtype=bool))\n",
    "\n",
    "        # Set up the matplotlib figure\n",
    "        f, ax = plt.subplots(figsize=(11, 9))\n",
    "\n",
    "        # Generate a custom diverging colormap\n",
    "        cmap = sns.diverging_palette(230, 20, as_cmap=True)\n",
    "\n",
    "        plt.title(s, fontsize =20)\n",
    "        #plt.xticks(rotation = 90)\n",
    "        #plt.yticks(rotation = 180)\n",
    "        # Draw the heatmap with the mask and correct aspect ratio\n",
    "        \n",
    "        ax = sns.heatmap(corr, mask=mask, annot=True, cmap=cmap, vmax=.3, center=0,\n",
    "                    square=True, linewidths=.5, cbar_kws={\"shrink\": .5})\n",
    "\n",
    "        bottom, top = ax.get_ylim()\n",
    "        ax.set_ylim(bottom + 0.5, top - 0.5)\n",
    "\n",
    "        plt.savefig('Output/Correlation_plot_' + s +'.png')"
   ]
  },
  {
   "cell_type": "code",
   "execution_count": null,
   "metadata": {},
   "outputs": [],
   "source": []
  },
  {
   "cell_type": "code",
   "execution_count": null,
   "metadata": {},
   "outputs": [],
   "source": []
  }
 ],
 "metadata": {
  "kernelspec": {
   "display_name": "Python 3",
   "language": "python",
   "name": "python3"
  },
  "language_info": {
   "codemirror_mode": {
    "name": "ipython",
    "version": 3
   },
   "file_extension": ".py",
   "mimetype": "text/x-python",
   "name": "python",
   "nbconvert_exporter": "python",
   "pygments_lexer": "ipython3",
   "version": "3.7.4"
  }
 },
 "nbformat": 4,
 "nbformat_minor": 4
}
